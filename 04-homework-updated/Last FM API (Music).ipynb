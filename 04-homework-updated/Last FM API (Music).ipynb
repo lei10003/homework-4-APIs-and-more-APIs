{
 "cells": [
  {
   "cell_type": "markdown",
   "metadata": {},
   "source": [
    "# Last FM API (Music)\n",
    "\n",
    "Spotify's API is dead to us, so we're using Last.fm's - it's still music, just not as nice of an API.\n",
    "\n",
    "1. Create an account at https://www.last.fm/api/\n",
    "2. Create an \"application\" to get a key: https://www.last.fm/api/account/create\n",
    "    - It isn't a real application, it's just your project\n",
    "    - Name/description doesn't matter, ignore callback key and callback url\n",
    "3. And save the API key that shows up on the next screen\n",
    "\n",
    "You can find documentation at https://www.last.fm/api/\n",
    "\n",
    "The domain for the API is `http://ws.audioscrobbler.com`, so all of your endpoints will be connected to that. To test your API key, check the following URL in your browser: `http://ws.audioscrobbler.com/2.0/?method=artist.search&artist=cher&api_key=XXXXXXXXXXXXXXXXXXXX&format=json` (change the `XXXXXX` to be your API key, of course!).\n",
    "\n",
    "> Last.fm used to be called **AudioScrobbler**, which is why its URLs don't have \"last.fm\" in them.\n",
    "> While we're asking about URLs, notice that the API endpoints have a lot of `?` and `&` in them - these are key/value pairs, kind of like dictionaries, but for URLs instead of Python."
   ]
  },
  {
   "cell_type": "markdown",
   "metadata": {},
   "source": [
    "# FIRST: SETUP"
   ]
  },
  {
   "cell_type": "markdown",
   "metadata": {},
   "source": [
    "## 1) Import the libraries/packages you might need\n",
    "\n",
    "We need a library to read in the data for us! We don't like `urllib2`, so it must be something cooler and better."
   ]
  },
  {
   "cell_type": "code",
   "execution_count": 12,
   "metadata": {},
   "outputs": [],
   "source": [
    "# Import what you need here\n",
    "import requests\n",
    "from dotenv import load_dotenv \n",
    "import os"
   ]
  },
  {
   "cell_type": "code",
   "execution_count": 16,
   "metadata": {},
   "outputs": [
    {
     "data": {
      "text/plain": [
       "True"
      ]
     },
     "execution_count": 16,
     "metadata": {},
     "output_type": "execute_result"
    }
   ],
   "source": [
    "load_dotenv() # take environment variables from .env."
   ]
  },
  {
   "cell_type": "markdown",
   "metadata": {},
   "source": [
    "## 2) Save your API key\n",
    "\n",
    "Write your API key here so you don't forget it - it's the \"api key\" one, not the \"shared secret\" one"
   ]
  },
  {
   "cell_type": "code",
   "execution_count": 17,
   "metadata": {},
   "outputs": [],
   "source": [
    "API_KEY = os.getenv(\"FM_API_KEY\")"
   ]
  },
  {
   "cell_type": "markdown",
   "metadata": {},
   "source": [
    "## 3) The death of an API\n",
    "\n",
    "I used to have some code here that allowed you to display images, but _the images don't work any more._ Let this be an important lesson: when you depend on external services, they can die at any time."
   ]
  },
  {
   "cell_type": "code",
   "execution_count": 18,
   "metadata": {},
   "outputs": [],
   "source": [
    "url = f\"http://ws.audioscrobbler.com/2.0/?method=artist.search&artist=lil&api_key={API_KEY}&format=json&limit=50\"\n",
    "response = requests.get(url)\n",
    "data = response.json()"
   ]
  },
  {
   "cell_type": "code",
   "execution_count": 19,
   "metadata": {},
   "outputs": [
    {
     "name": "stdout",
     "output_type": "stream",
     "text": [
      "{'results': {'opensearch:Query': {'#text': '', 'role': 'request', 'searchTerms': 'lil', 'startPage': '1'}, 'opensearch:totalResults': '605387', 'opensearch:startIndex': '0', 'opensearch:itemsPerPage': '50', 'artistmatches': {'artist': [{'name': 'LIL UZI VERT', 'listeners': '1438291', 'mbid': '', 'url': 'https://www.last.fm/music/LIL+UZI+VERT', 'streamable': '0', 'image': [{'#text': 'https://lastfm.freetls.fastly.net/i/u/34s/2a96cbd8b46e442fc41c2b86b821562f.png', 'size': 'small'}, {'#text': 'https://lastfm.freetls.fastly.net/i/u/64s/2a96cbd8b46e442fc41c2b86b821562f.png', 'size': 'medium'}, {'#text': 'https://lastfm.freetls.fastly.net/i/u/174s/2a96cbd8b46e442fc41c2b86b821562f.png', 'size': 'large'}, {'#text': 'https://lastfm.freetls.fastly.net/i/u/300x300/2a96cbd8b46e442fc41c2b86b821562f.png', 'size': 'extralarge'}, {'#text': 'https://lastfm.freetls.fastly.net/i/u/300x300/2a96cbd8b46e442fc41c2b86b821562f.png', 'size': 'mega'}]}, {'name': 'LIL PEEP', 'listeners': '1126900', 'mbid': '', 'url': 'https://www.last.fm/music/LIL+PEEP', 'streamable': '0', 'image': [{'#text': 'https://lastfm.freetls.fastly.net/i/u/34s/2a96cbd8b46e442fc41c2b86b821562f.png', 'size': 'small'}, {'#text': 'https://lastfm.freetls.fastly.net/i/u/64s/2a96cbd8b46e442fc41c2b86b821562f.png', 'size': 'medium'}, {'#text': 'https://lastfm.freetls.fastly.net/i/u/174s/2a96cbd8b46e442fc41c2b86b821562f.png', 'size': 'large'}, {'#text': 'https://lastfm.freetls.fastly.net/i/u/300x300/2a96cbd8b46e442fc41c2b86b821562f.png', 'size': 'extralarge'}, {'#text': 'https://lastfm.freetls.fastly.net/i/u/300x300/2a96cbd8b46e442fc41c2b86b821562f.png', 'size': 'mega'}]}, {'name': 'Lil Nas X', 'listeners': '1743585', 'mbid': '', 'url': 'https://www.last.fm/music/Lil+Nas+X', 'streamable': '0', 'image': [{'#text': 'https://lastfm.freetls.fastly.net/i/u/34s/2a96cbd8b46e442fc41c2b86b821562f.png', 'size': 'small'}, {'#text': 'https://lastfm.freetls.fastly.net/i/u/64s/2a96cbd8b46e442fc41c2b86b821562f.png', 'size': 'medium'}, {'#text': 'https://lastfm.freetls.fastly.net/i/u/174s/2a96cbd8b46e442fc41c2b86b821562f.png', 'size': 'large'}, {'#text': 'https://lastfm.freetls.fastly.net/i/u/300x300/2a96cbd8b46e442fc41c2b86b821562f.png', 'size': 'extralarge'}, {'#text': 'https://lastfm.freetls.fastly.net/i/u/300x300/2a96cbd8b46e442fc41c2b86b821562f.png', 'size': 'mega'}]}, {'name': 'Lil Baby', 'listeners': '882477', 'mbid': '', 'url': 'https://www.last.fm/music/Lil+Baby', 'streamable': '0', 'image': [{'#text': 'https://lastfm.freetls.fastly.net/i/u/34s/2a96cbd8b46e442fc41c2b86b821562f.png', 'size': 'small'}, {'#text': 'https://lastfm.freetls.fastly.net/i/u/64s/2a96cbd8b46e442fc41c2b86b821562f.png', 'size': 'medium'}, {'#text': 'https://lastfm.freetls.fastly.net/i/u/174s/2a96cbd8b46e442fc41c2b86b821562f.png', 'size': 'large'}, {'#text': 'https://lastfm.freetls.fastly.net/i/u/300x300/2a96cbd8b46e442fc41c2b86b821562f.png', 'size': 'extralarge'}, {'#text': 'https://lastfm.freetls.fastly.net/i/u/300x300/2a96cbd8b46e442fc41c2b86b821562f.png', 'size': 'mega'}]}, {'name': 'Lily Allen', 'listeners': '2679551', 'mbid': '6e0c7c0e-cba5-4c2c-a652-38f71ef5785d', 'url': 'https://www.last.fm/music/Lily+Allen', 'streamable': '0', 'image': [{'#text': 'https://lastfm.freetls.fastly.net/i/u/34s/2a96cbd8b46e442fc41c2b86b821562f.png', 'size': 'small'}, {'#text': 'https://lastfm.freetls.fastly.net/i/u/64s/2a96cbd8b46e442fc41c2b86b821562f.png', 'size': 'medium'}, {'#text': 'https://lastfm.freetls.fastly.net/i/u/174s/2a96cbd8b46e442fc41c2b86b821562f.png', 'size': 'large'}, {'#text': 'https://lastfm.freetls.fastly.net/i/u/300x300/2a96cbd8b46e442fc41c2b86b821562f.png', 'size': 'extralarge'}, {'#text': 'https://lastfm.freetls.fastly.net/i/u/300x300/2a96cbd8b46e442fc41c2b86b821562f.png', 'size': 'mega'}]}, {'name': 'Lil Yachty', 'listeners': '959533', 'mbid': '', 'url': 'https://www.last.fm/music/Lil+Yachty', 'streamable': '0', 'image': [{'#text': 'https://lastfm.freetls.fastly.net/i/u/34s/2a96cbd8b46e442fc41c2b86b821562f.png', 'size': 'small'}, {'#text': 'https://lastfm.freetls.fastly.net/i/u/64s/2a96cbd8b46e442fc41c2b86b821562f.png', 'size': 'medium'}, {'#text': 'https://lastfm.freetls.fastly.net/i/u/174s/2a96cbd8b46e442fc41c2b86b821562f.png', 'size': 'large'}, {'#text': 'https://lastfm.freetls.fastly.net/i/u/300x300/2a96cbd8b46e442fc41c2b86b821562f.png', 'size': 'extralarge'}, {'#text': 'https://lastfm.freetls.fastly.net/i/u/300x300/2a96cbd8b46e442fc41c2b86b821562f.png', 'size': 'mega'}]}, {'name': \"Lil' Wayne\", 'listeners': '3380070', 'mbid': '', 'url': 'https://www.last.fm/music/Lil%27+Wayne', 'streamable': '0', 'image': [{'#text': 'https://lastfm.freetls.fastly.net/i/u/34s/2a96cbd8b46e442fc41c2b86b821562f.png', 'size': 'small'}, {'#text': 'https://lastfm.freetls.fastly.net/i/u/64s/2a96cbd8b46e442fc41c2b86b821562f.png', 'size': 'medium'}, {'#text': 'https://lastfm.freetls.fastly.net/i/u/174s/2a96cbd8b46e442fc41c2b86b821562f.png', 'size': 'large'}, {'#text': 'https://lastfm.freetls.fastly.net/i/u/300x300/2a96cbd8b46e442fc41c2b86b821562f.png', 'size': 'extralarge'}, {'#text': 'https://lastfm.freetls.fastly.net/i/u/300x300/2a96cbd8b46e442fc41c2b86b821562f.png', 'size': 'mega'}]}, {'name': 'Lil Tecca', 'listeners': '728049', 'mbid': '', 'url': 'https://www.last.fm/music/Lil+Tecca', 'streamable': '0', 'image': [{'#text': 'https://lastfm.freetls.fastly.net/i/u/34s/2a96cbd8b46e442fc41c2b86b821562f.png', 'size': 'small'}, {'#text': 'https://lastfm.freetls.fastly.net/i/u/64s/2a96cbd8b46e442fc41c2b86b821562f.png', 'size': 'medium'}, {'#text': 'https://lastfm.freetls.fastly.net/i/u/174s/2a96cbd8b46e442fc41c2b86b821562f.png', 'size': 'large'}, {'#text': 'https://lastfm.freetls.fastly.net/i/u/300x300/2a96cbd8b46e442fc41c2b86b821562f.png', 'size': 'extralarge'}, {'#text': 'https://lastfm.freetls.fastly.net/i/u/300x300/2a96cbd8b46e442fc41c2b86b821562f.png', 'size': 'mega'}]}, {'name': 'Lil Wayne', 'listeners': '1032482', 'mbid': 'ac9a487a-d9d2-4f27-bb23-0f4686488345', 'url': 'https://www.last.fm/music/Lil+Wayne', 'streamable': '0', 'image': [{'#text': 'https://lastfm.freetls.fastly.net/i/u/34s/2a96cbd8b46e442fc41c2b86b821562f.png', 'size': 'small'}, {'#text': 'https://lastfm.freetls.fastly.net/i/u/64s/2a96cbd8b46e442fc41c2b86b821562f.png', 'size': 'medium'}, {'#text': 'https://lastfm.freetls.fastly.net/i/u/174s/2a96cbd8b46e442fc41c2b86b821562f.png', 'size': 'large'}, {'#text': 'https://lastfm.freetls.fastly.net/i/u/300x300/2a96cbd8b46e442fc41c2b86b821562f.png', 'size': 'extralarge'}, {'#text': 'https://lastfm.freetls.fastly.net/i/u/300x300/2a96cbd8b46e442fc41c2b86b821562f.png', 'size': 'mega'}]}, {'name': 'Lil Durk', 'listeners': '584188', 'mbid': 'c9cd225b-4883-428e-82c2-73e0b6282fb6', 'url': 'https://www.last.fm/music/Lil+Durk', 'streamable': '0', 'image': [{'#text': 'https://lastfm.freetls.fastly.net/i/u/34s/2a96cbd8b46e442fc41c2b86b821562f.png', 'size': 'small'}, {'#text': 'https://lastfm.freetls.fastly.net/i/u/64s/2a96cbd8b46e442fc41c2b86b821562f.png', 'size': 'medium'}, {'#text': 'https://lastfm.freetls.fastly.net/i/u/174s/2a96cbd8b46e442fc41c2b86b821562f.png', 'size': 'large'}, {'#text': 'https://lastfm.freetls.fastly.net/i/u/300x300/2a96cbd8b46e442fc41c2b86b821562f.png', 'size': 'extralarge'}, {'#text': 'https://lastfm.freetls.fastly.net/i/u/300x300/2a96cbd8b46e442fc41c2b86b821562f.png', 'size': 'mega'}]}, {'name': 'lil tjay', 'listeners': '576307', 'mbid': '', 'url': 'https://www.last.fm/music/lil+tjay', 'streamable': '0', 'image': [{'#text': 'https://lastfm.freetls.fastly.net/i/u/34s/2a96cbd8b46e442fc41c2b86b821562f.png', 'size': 'small'}, {'#text': 'https://lastfm.freetls.fastly.net/i/u/64s/2a96cbd8b46e442fc41c2b86b821562f.png', 'size': 'medium'}, {'#text': 'https://lastfm.freetls.fastly.net/i/u/174s/2a96cbd8b46e442fc41c2b86b821562f.png', 'size': 'large'}, {'#text': 'https://lastfm.freetls.fastly.net/i/u/300x300/2a96cbd8b46e442fc41c2b86b821562f.png', 'size': 'extralarge'}, {'#text': 'https://lastfm.freetls.fastly.net/i/u/300x300/2a96cbd8b46e442fc41c2b86b821562f.png', 'size': 'mega'}]}, {'name': 'lil skies', 'listeners': '491311', 'mbid': '', 'url': 'https://www.last.fm/music/lil+skies', 'streamable': '0', 'image': [{'#text': 'https://lastfm.freetls.fastly.net/i/u/34s/2a96cbd8b46e442fc41c2b86b821562f.png', 'size': 'small'}, {'#text': 'https://lastfm.freetls.fastly.net/i/u/64s/2a96cbd8b46e442fc41c2b86b821562f.png', 'size': 'medium'}, {'#text': 'https://lastfm.freetls.fastly.net/i/u/174s/2a96cbd8b46e442fc41c2b86b821562f.png', 'size': 'large'}, {'#text': 'https://lastfm.freetls.fastly.net/i/u/300x300/2a96cbd8b46e442fc41c2b86b821562f.png', 'size': 'extralarge'}, {'#text': 'https://lastfm.freetls.fastly.net/i/u/300x300/2a96cbd8b46e442fc41c2b86b821562f.png', 'size': 'mega'}]}, {'name': 'Lil Darkie', 'listeners': '324330', 'mbid': '', 'url': 'https://www.last.fm/music/Lil+Darkie', 'streamable': '0', 'image': [{'#text': 'https://lastfm.freetls.fastly.net/i/u/34s/2a96cbd8b46e442fc41c2b86b821562f.png', 'size': 'small'}, {'#text': 'https://lastfm.freetls.fastly.net/i/u/64s/2a96cbd8b46e442fc41c2b86b821562f.png', 'size': 'medium'}, {'#text': 'https://lastfm.freetls.fastly.net/i/u/174s/2a96cbd8b46e442fc41c2b86b821562f.png', 'size': 'large'}, {'#text': 'https://lastfm.freetls.fastly.net/i/u/300x300/2a96cbd8b46e442fc41c2b86b821562f.png', 'size': 'extralarge'}, {'#text': 'https://lastfm.freetls.fastly.net/i/u/300x300/2a96cbd8b46e442fc41c2b86b821562f.png', 'size': 'mega'}]}, {'name': 'Lil Ugly Mane', 'listeners': '259907', 'mbid': '5f1adfe1-4d07-4141-b181-79e5d379d539', 'url': 'https://www.last.fm/music/Lil+Ugly+Mane', 'streamable': '0', 'image': [{'#text': 'https://lastfm.freetls.fastly.net/i/u/34s/2a96cbd8b46e442fc41c2b86b821562f.png', 'size': 'small'}, {'#text': 'https://lastfm.freetls.fastly.net/i/u/64s/2a96cbd8b46e442fc41c2b86b821562f.png', 'size': 'medium'}, {'#text': 'https://lastfm.freetls.fastly.net/i/u/174s/2a96cbd8b46e442fc41c2b86b821562f.png', 'size': 'large'}, {'#text': 'https://lastfm.freetls.fastly.net/i/u/300x300/2a96cbd8b46e442fc41c2b86b821562f.png', 'size': 'extralarge'}, {'#text': 'https://lastfm.freetls.fastly.net/i/u/300x300/2a96cbd8b46e442fc41c2b86b821562f.png', 'size': 'mega'}]}, {'name': 'lil Mosey', 'listeners': '592405', 'mbid': '', 'url': 'https://www.last.fm/music/lil+Mosey', 'streamable': '0', 'image': [{'#text': 'https://lastfm.freetls.fastly.net/i/u/34s/2a96cbd8b46e442fc41c2b86b821562f.png', 'size': 'small'}, {'#text': 'https://lastfm.freetls.fastly.net/i/u/64s/2a96cbd8b46e442fc41c2b86b821562f.png', 'size': 'medium'}, {'#text': 'https://lastfm.freetls.fastly.net/i/u/174s/2a96cbd8b46e442fc41c2b86b821562f.png', 'size': 'large'}, {'#text': 'https://lastfm.freetls.fastly.net/i/u/300x300/2a96cbd8b46e442fc41c2b86b821562f.png', 'size': 'extralarge'}, {'#text': 'https://lastfm.freetls.fastly.net/i/u/300x300/2a96cbd8b46e442fc41c2b86b821562f.png', 'size': 'mega'}]}, {'name': 'Lil B', 'listeners': '388301', 'mbid': '1550f952-c91b-40d7-9b4d-d26a259ee932', 'url': 'https://www.last.fm/music/Lil+B', 'streamable': '0', 'image': [{'#text': 'https://lastfm.freetls.fastly.net/i/u/34s/2a96cbd8b46e442fc41c2b86b821562f.png', 'size': 'small'}, {'#text': 'https://lastfm.freetls.fastly.net/i/u/64s/2a96cbd8b46e442fc41c2b86b821562f.png', 'size': 'medium'}, {'#text': 'https://lastfm.freetls.fastly.net/i/u/174s/2a96cbd8b46e442fc41c2b86b821562f.png', 'size': 'large'}, {'#text': 'https://lastfm.freetls.fastly.net/i/u/300x300/2a96cbd8b46e442fc41c2b86b821562f.png', 'size': 'extralarge'}, {'#text': 'https://lastfm.freetls.fastly.net/i/u/300x300/2a96cbd8b46e442fc41c2b86b821562f.png', 'size': 'mega'}]}, {'name': 'LIL PUMP', 'listeners': '502071', 'mbid': '', 'url': 'https://www.last.fm/music/LIL+PUMP', 'streamable': '0', 'image': [{'#text': 'https://lastfm.freetls.fastly.net/i/u/34s/2a96cbd8b46e442fc41c2b86b821562f.png', 'size': 'small'}, {'#text': 'https://lastfm.freetls.fastly.net/i/u/64s/2a96cbd8b46e442fc41c2b86b821562f.png', 'size': 'medium'}, {'#text': 'https://lastfm.freetls.fastly.net/i/u/174s/2a96cbd8b46e442fc41c2b86b821562f.png', 'size': 'large'}, {'#text': 'https://lastfm.freetls.fastly.net/i/u/300x300/2a96cbd8b46e442fc41c2b86b821562f.png', 'size': 'extralarge'}, {'#text': 'https://lastfm.freetls.fastly.net/i/u/300x300/2a96cbd8b46e442fc41c2b86b821562f.png', 'size': 'mega'}]}, {'name': 'LIL TRACY', 'listeners': '208527', 'mbid': '', 'url': 'https://www.last.fm/music/LIL+TRACY', 'streamable': '0', 'image': [{'#text': 'https://lastfm.freetls.fastly.net/i/u/34s/2a96cbd8b46e442fc41c2b86b821562f.png', 'size': 'small'}, {'#text': 'https://lastfm.freetls.fastly.net/i/u/64s/2a96cbd8b46e442fc41c2b86b821562f.png', 'size': 'medium'}, {'#text': 'https://lastfm.freetls.fastly.net/i/u/174s/2a96cbd8b46e442fc41c2b86b821562f.png', 'size': 'large'}, {'#text': 'https://lastfm.freetls.fastly.net/i/u/300x300/2a96cbd8b46e442fc41c2b86b821562f.png', 'size': 'extralarge'}, {'#text': 'https://lastfm.freetls.fastly.net/i/u/300x300/2a96cbd8b46e442fc41c2b86b821562f.png', 'size': 'mega'}]}, {'name': 'Lil Keed', 'listeners': '240057', 'mbid': '', 'url': 'https://www.last.fm/music/Lil+Keed', 'streamable': '0', 'image': [{'#text': 'https://lastfm.freetls.fastly.net/i/u/34s/2a96cbd8b46e442fc41c2b86b821562f.png', 'size': 'small'}, {'#text': 'https://lastfm.freetls.fastly.net/i/u/64s/2a96cbd8b46e442fc41c2b86b821562f.png', 'size': 'medium'}, {'#text': 'https://lastfm.freetls.fastly.net/i/u/174s/2a96cbd8b46e442fc41c2b86b821562f.png', 'size': 'large'}, {'#text': 'https://lastfm.freetls.fastly.net/i/u/300x300/2a96cbd8b46e442fc41c2b86b821562f.png', 'size': 'extralarge'}, {'#text': 'https://lastfm.freetls.fastly.net/i/u/300x300/2a96cbd8b46e442fc41c2b86b821562f.png', 'size': 'mega'}]}, {'name': 'Lil Dicky', 'listeners': '460568', 'mbid': '3268f062-6e76-480a-a384-e1dd2a276afb', 'url': 'https://www.last.fm/music/Lil+Dicky', 'streamable': '0', 'image': [{'#text': 'https://lastfm.freetls.fastly.net/i/u/34s/2a96cbd8b46e442fc41c2b86b821562f.png', 'size': 'small'}, {'#text': 'https://lastfm.freetls.fastly.net/i/u/64s/2a96cbd8b46e442fc41c2b86b821562f.png', 'size': 'medium'}, {'#text': 'https://lastfm.freetls.fastly.net/i/u/174s/2a96cbd8b46e442fc41c2b86b821562f.png', 'size': 'large'}, {'#text': 'https://lastfm.freetls.fastly.net/i/u/300x300/2a96cbd8b46e442fc41c2b86b821562f.png', 'size': 'extralarge'}, {'#text': 'https://lastfm.freetls.fastly.net/i/u/300x300/2a96cbd8b46e442fc41c2b86b821562f.png', 'size': 'mega'}]}, {'name': \"Lil' Kim\", 'listeners': '623635', 'mbid': 'bc1b5c95-e6d6-46b5-957a-5e8908b02c1e', 'url': 'https://www.last.fm/music/Lil%27+Kim', 'streamable': '0', 'image': [{'#text': 'https://lastfm.freetls.fastly.net/i/u/34s/2a96cbd8b46e442fc41c2b86b821562f.png', 'size': 'small'}, {'#text': 'https://lastfm.freetls.fastly.net/i/u/64s/2a96cbd8b46e442fc41c2b86b821562f.png', 'size': 'medium'}, {'#text': 'https://lastfm.freetls.fastly.net/i/u/174s/2a96cbd8b46e442fc41c2b86b821562f.png', 'size': 'large'}, {'#text': 'https://lastfm.freetls.fastly.net/i/u/300x300/2a96cbd8b46e442fc41c2b86b821562f.png', 'size': 'extralarge'}, {'#text': 'https://lastfm.freetls.fastly.net/i/u/300x300/2a96cbd8b46e442fc41c2b86b821562f.png', 'size': 'mega'}]}, {'name': 'Lil Xan', 'listeners': '323806', 'mbid': '', 'url': 'https://www.last.fm/music/Lil+Xan', 'streamable': '0', 'image': [{'#text': 'https://lastfm.freetls.fastly.net/i/u/34s/2a96cbd8b46e442fc41c2b86b821562f.png', 'size': 'small'}, {'#text': 'https://lastfm.freetls.fastly.net/i/u/64s/2a96cbd8b46e442fc41c2b86b821562f.png', 'size': 'medium'}, {'#text': 'https://lastfm.freetls.fastly.net/i/u/174s/2a96cbd8b46e442fc41c2b86b821562f.png', 'size': 'large'}, {'#text': 'https://lastfm.freetls.fastly.net/i/u/300x300/2a96cbd8b46e442fc41c2b86b821562f.png', 'size': 'extralarge'}, {'#text': 'https://lastfm.freetls.fastly.net/i/u/300x300/2a96cbd8b46e442fc41c2b86b821562f.png', 'size': 'mega'}]}, {'name': 'Lil Shine', 'listeners': '49578', 'mbid': 'd4c7d574-c8f8-4c7e-ab45-fc612df367ca', 'url': 'https://www.last.fm/music/Lil+Shine', 'streamable': '0', 'image': [{'#text': 'https://lastfm.freetls.fastly.net/i/u/34s/2a96cbd8b46e442fc41c2b86b821562f.png', 'size': 'small'}, {'#text': 'https://lastfm.freetls.fastly.net/i/u/64s/2a96cbd8b46e442fc41c2b86b821562f.png', 'size': 'medium'}, {'#text': 'https://lastfm.freetls.fastly.net/i/u/174s/2a96cbd8b46e442fc41c2b86b821562f.png', 'size': 'large'}, {'#text': 'https://lastfm.freetls.fastly.net/i/u/300x300/2a96cbd8b46e442fc41c2b86b821562f.png', 'size': 'extralarge'}, {'#text': 'https://lastfm.freetls.fastly.net/i/u/300x300/2a96cbd8b46e442fc41c2b86b821562f.png', 'size': 'mega'}]}, {'name': 'Lil Loaded', 'listeners': '157618', 'mbid': '', 'url': 'https://www.last.fm/music/Lil+Loaded', 'streamable': '0', 'image': [{'#text': 'https://lastfm.freetls.fastly.net/i/u/34s/2a96cbd8b46e442fc41c2b86b821562f.png', 'size': 'small'}, {'#text': 'https://lastfm.freetls.fastly.net/i/u/64s/2a96cbd8b46e442fc41c2b86b821562f.png', 'size': 'medium'}, {'#text': 'https://lastfm.freetls.fastly.net/i/u/174s/2a96cbd8b46e442fc41c2b86b821562f.png', 'size': 'large'}, {'#text': 'https://lastfm.freetls.fastly.net/i/u/300x300/2a96cbd8b46e442fc41c2b86b821562f.png', 'size': 'extralarge'}, {'#text': 'https://lastfm.freetls.fastly.net/i/u/300x300/2a96cbd8b46e442fc41c2b86b821562f.png', 'size': 'mega'}]}, {'name': 'LIL GNAR', 'listeners': '243787', 'mbid': '', 'url': 'https://www.last.fm/music/LIL+GNAR', 'streamable': '0', 'image': [{'#text': 'https://lastfm.freetls.fastly.net/i/u/34s/2a96cbd8b46e442fc41c2b86b821562f.png', 'size': 'small'}, {'#text': 'https://lastfm.freetls.fastly.net/i/u/64s/2a96cbd8b46e442fc41c2b86b821562f.png', 'size': 'medium'}, {'#text': 'https://lastfm.freetls.fastly.net/i/u/174s/2a96cbd8b46e442fc41c2b86b821562f.png', 'size': 'large'}, {'#text': 'https://lastfm.freetls.fastly.net/i/u/300x300/2a96cbd8b46e442fc41c2b86b821562f.png', 'size': 'extralarge'}, {'#text': 'https://lastfm.freetls.fastly.net/i/u/300x300/2a96cbd8b46e442fc41c2b86b821562f.png', 'size': 'mega'}]}, {'name': 'Lilbubblegum', 'listeners': '145934', 'mbid': '', 'url': 'https://www.last.fm/music/Lilbubblegum', 'streamable': '0', 'image': [{'#text': 'https://lastfm.freetls.fastly.net/i/u/34s/2a96cbd8b46e442fc41c2b86b821562f.png', 'size': 'small'}, {'#text': 'https://lastfm.freetls.fastly.net/i/u/64s/2a96cbd8b46e442fc41c2b86b821562f.png', 'size': 'medium'}, {'#text': 'https://lastfm.freetls.fastly.net/i/u/174s/2a96cbd8b46e442fc41c2b86b821562f.png', 'size': 'large'}, {'#text': 'https://lastfm.freetls.fastly.net/i/u/300x300/2a96cbd8b46e442fc41c2b86b821562f.png', 'size': 'extralarge'}, {'#text': 'https://lastfm.freetls.fastly.net/i/u/300x300/2a96cbd8b46e442fc41c2b86b821562f.png', 'size': 'mega'}]}, {'name': 'lil mabu', 'listeners': '162133', 'mbid': '', 'url': 'https://www.last.fm/music/lil+mabu', 'streamable': '0', 'image': [{'#text': 'https://lastfm.freetls.fastly.net/i/u/34s/2a96cbd8b46e442fc41c2b86b821562f.png', 'size': 'small'}, {'#text': 'https://lastfm.freetls.fastly.net/i/u/64s/2a96cbd8b46e442fc41c2b86b821562f.png', 'size': 'medium'}, {'#text': 'https://lastfm.freetls.fastly.net/i/u/174s/2a96cbd8b46e442fc41c2b86b821562f.png', 'size': 'large'}, {'#text': 'https://lastfm.freetls.fastly.net/i/u/300x300/2a96cbd8b46e442fc41c2b86b821562f.png', 'size': 'extralarge'}, {'#text': 'https://lastfm.freetls.fastly.net/i/u/300x300/2a96cbd8b46e442fc41c2b86b821562f.png', 'size': 'mega'}]}, {'name': 'Lilypichu', 'listeners': '95142', 'mbid': '', 'url': 'https://www.last.fm/music/Lilypichu', 'streamable': '0', 'image': [{'#text': 'https://lastfm.freetls.fastly.net/i/u/34s/2a96cbd8b46e442fc41c2b86b821562f.png', 'size': 'small'}, {'#text': 'https://lastfm.freetls.fastly.net/i/u/64s/2a96cbd8b46e442fc41c2b86b821562f.png', 'size': 'medium'}, {'#text': 'https://lastfm.freetls.fastly.net/i/u/174s/2a96cbd8b46e442fc41c2b86b821562f.png', 'size': 'large'}, {'#text': 'https://lastfm.freetls.fastly.net/i/u/300x300/2a96cbd8b46e442fc41c2b86b821562f.png', 'size': 'extralarge'}, {'#text': 'https://lastfm.freetls.fastly.net/i/u/300x300/2a96cbd8b46e442fc41c2b86b821562f.png', 'size': 'mega'}]}, {'name': 'Lilly Wood & The Prick', 'listeners': '437989', 'mbid': '1b72331b-3a97-4981-a81c-eeee9c275d28', 'url': 'https://www.last.fm/music/Lilly+Wood+&+The+Prick', 'streamable': '0', 'image': [{'#text': 'https://lastfm.freetls.fastly.net/i/u/34s/2a96cbd8b46e442fc41c2b86b821562f.png', 'size': 'small'}, {'#text': 'https://lastfm.freetls.fastly.net/i/u/64s/2a96cbd8b46e442fc41c2b86b821562f.png', 'size': 'medium'}, {'#text': 'https://lastfm.freetls.fastly.net/i/u/174s/2a96cbd8b46e442fc41c2b86b821562f.png', 'size': 'large'}, {'#text': 'https://lastfm.freetls.fastly.net/i/u/300x300/2a96cbd8b46e442fc41c2b86b821562f.png', 'size': 'extralarge'}, {'#text': 'https://lastfm.freetls.fastly.net/i/u/300x300/2a96cbd8b46e442fc41c2b86b821562f.png', 'size': 'mega'}]}, {'name': 'LIL DUSTY G', 'listeners': '134146', 'mbid': '', 'url': 'https://www.last.fm/music/LIL+DUSTY+G', 'streamable': '0', 'image': [{'#text': 'https://lastfm.freetls.fastly.net/i/u/34s/2a96cbd8b46e442fc41c2b86b821562f.png', 'size': 'small'}, {'#text': 'https://lastfm.freetls.fastly.net/i/u/64s/2a96cbd8b46e442fc41c2b86b821562f.png', 'size': 'medium'}, {'#text': 'https://lastfm.freetls.fastly.net/i/u/174s/2a96cbd8b46e442fc41c2b86b821562f.png', 'size': 'large'}, {'#text': 'https://lastfm.freetls.fastly.net/i/u/300x300/2a96cbd8b46e442fc41c2b86b821562f.png', 'size': 'extralarge'}, {'#text': 'https://lastfm.freetls.fastly.net/i/u/300x300/2a96cbd8b46e442fc41c2b86b821562f.png', 'size': 'mega'}]}, {'name': 'Lil Jon & The East Side Boyz', 'listeners': '670201', 'mbid': '243c6f61-d83b-4459-bebd-5899df0da111', 'url': 'https://www.last.fm/music/Lil+Jon+&+The+East+Side+Boyz', 'streamable': '0', 'image': [{'#text': 'https://lastfm.freetls.fastly.net/i/u/34s/2a96cbd8b46e442fc41c2b86b821562f.png', 'size': 'small'}, {'#text': 'https://lastfm.freetls.fastly.net/i/u/64s/2a96cbd8b46e442fc41c2b86b821562f.png', 'size': 'medium'}, {'#text': 'https://lastfm.freetls.fastly.net/i/u/174s/2a96cbd8b46e442fc41c2b86b821562f.png', 'size': 'large'}, {'#text': 'https://lastfm.freetls.fastly.net/i/u/300x300/2a96cbd8b46e442fc41c2b86b821562f.png', 'size': 'extralarge'}, {'#text': 'https://lastfm.freetls.fastly.net/i/u/300x300/2a96cbd8b46e442fc41c2b86b821562f.png', 'size': 'mega'}]}, {'name': 'Lily Chou-Chou', 'listeners': '118686', 'mbid': '5652bb3e-f225-49de-9637-5aa1539b4a7c', 'url': 'https://www.last.fm/music/Lily+Chou-Chou', 'streamable': '0', 'image': [{'#text': 'https://lastfm.freetls.fastly.net/i/u/34s/2a96cbd8b46e442fc41c2b86b821562f.png', 'size': 'small'}, {'#text': 'https://lastfm.freetls.fastly.net/i/u/64s/2a96cbd8b46e442fc41c2b86b821562f.png', 'size': 'medium'}, {'#text': 'https://lastfm.freetls.fastly.net/i/u/174s/2a96cbd8b46e442fc41c2b86b821562f.png', 'size': 'large'}, {'#text': 'https://lastfm.freetls.fastly.net/i/u/300x300/2a96cbd8b46e442fc41c2b86b821562f.png', 'size': 'extralarge'}, {'#text': 'https://lastfm.freetls.fastly.net/i/u/300x300/2a96cbd8b46e442fc41c2b86b821562f.png', 'size': 'mega'}]}, {'name': 'Lil Revive', 'listeners': '46729', 'mbid': '', 'url': 'https://www.last.fm/music/Lil+Revive', 'streamable': '0', 'image': [{'#text': 'https://lastfm.freetls.fastly.net/i/u/34s/2a96cbd8b46e442fc41c2b86b821562f.png', 'size': 'small'}, {'#text': 'https://lastfm.freetls.fastly.net/i/u/64s/2a96cbd8b46e442fc41c2b86b821562f.png', 'size': 'medium'}, {'#text': 'https://lastfm.freetls.fastly.net/i/u/174s/2a96cbd8b46e442fc41c2b86b821562f.png', 'size': 'large'}, {'#text': 'https://lastfm.freetls.fastly.net/i/u/300x300/2a96cbd8b46e442fc41c2b86b821562f.png', 'size': 'extralarge'}, {'#text': 'https://lastfm.freetls.fastly.net/i/u/300x300/2a96cbd8b46e442fc41c2b86b821562f.png', 'size': 'mega'}]}, {'name': 'Lilac', 'listeners': '261229', 'mbid': '1967c6ce-95a4-48f0-8ac7-abe637524aee', 'url': 'https://www.last.fm/music/Lilac', 'streamable': '0', 'image': [{'#text': 'https://lastfm.freetls.fastly.net/i/u/34s/2a96cbd8b46e442fc41c2b86b821562f.png', 'size': 'small'}, {'#text': 'https://lastfm.freetls.fastly.net/i/u/64s/2a96cbd8b46e442fc41c2b86b821562f.png', 'size': 'medium'}, {'#text': 'https://lastfm.freetls.fastly.net/i/u/174s/2a96cbd8b46e442fc41c2b86b821562f.png', 'size': 'large'}, {'#text': 'https://lastfm.freetls.fastly.net/i/u/300x300/2a96cbd8b46e442fc41c2b86b821562f.png', 'size': 'extralarge'}, {'#text': 'https://lastfm.freetls.fastly.net/i/u/300x300/2a96cbd8b46e442fc41c2b86b821562f.png', 'size': 'mega'}]}, {'name': 'Lil Jon', 'listeners': '698096', 'mbid': 'a95384b1-6aec-468c-ae0d-8c6daf87c4c2', 'url': 'https://www.last.fm/music/Lil+Jon', 'streamable': '0', 'image': [{'#text': 'https://lastfm.freetls.fastly.net/i/u/34s/2a96cbd8b46e442fc41c2b86b821562f.png', 'size': 'small'}, {'#text': 'https://lastfm.freetls.fastly.net/i/u/64s/2a96cbd8b46e442fc41c2b86b821562f.png', 'size': 'medium'}, {'#text': 'https://lastfm.freetls.fastly.net/i/u/174s/2a96cbd8b46e442fc41c2b86b821562f.png', 'size': 'large'}, {'#text': 'https://lastfm.freetls.fastly.net/i/u/300x300/2a96cbd8b46e442fc41c2b86b821562f.png', 'size': 'extralarge'}, {'#text': 'https://lastfm.freetls.fastly.net/i/u/300x300/2a96cbd8b46e442fc41c2b86b821562f.png', 'size': 'mega'}]}, {'name': 'Lil Eazzyy', 'listeners': '175688', 'mbid': '', 'url': 'https://www.last.fm/music/Lil+Eazzyy', 'streamable': '0', 'image': [{'#text': 'https://lastfm.freetls.fastly.net/i/u/34s/2a96cbd8b46e442fc41c2b86b821562f.png', 'size': 'small'}, {'#text': 'https://lastfm.freetls.fastly.net/i/u/64s/2a96cbd8b46e442fc41c2b86b821562f.png', 'size': 'medium'}, {'#text': 'https://lastfm.freetls.fastly.net/i/u/174s/2a96cbd8b46e442fc41c2b86b821562f.png', 'size': 'large'}, {'#text': 'https://lastfm.freetls.fastly.net/i/u/300x300/2a96cbd8b46e442fc41c2b86b821562f.png', 'size': 'extralarge'}, {'#text': 'https://lastfm.freetls.fastly.net/i/u/300x300/2a96cbd8b46e442fc41c2b86b821562f.png', 'size': 'mega'}]}, {'name': 'Fenne Lily', 'listeners': '247968', 'mbid': '', 'url': 'https://www.last.fm/music/Fenne+Lily', 'streamable': '0', 'image': [{'#text': 'https://lastfm.freetls.fastly.net/i/u/34s/2a96cbd8b46e442fc41c2b86b821562f.png', 'size': 'small'}, {'#text': 'https://lastfm.freetls.fastly.net/i/u/64s/2a96cbd8b46e442fc41c2b86b821562f.png', 'size': 'medium'}, {'#text': 'https://lastfm.freetls.fastly.net/i/u/174s/2a96cbd8b46e442fc41c2b86b821562f.png', 'size': 'large'}, {'#text': 'https://lastfm.freetls.fastly.net/i/u/300x300/2a96cbd8b46e442fc41c2b86b821562f.png', 'size': 'extralarge'}, {'#text': 'https://lastfm.freetls.fastly.net/i/u/300x300/2a96cbd8b46e442fc41c2b86b821562f.png', 'size': 'mega'}]}, {'name': 'LIL BO WEEP', 'listeners': '94665', 'mbid': '', 'url': 'https://www.last.fm/music/LIL+BO+WEEP', 'streamable': '0', 'image': [{'#text': 'https://lastfm.freetls.fastly.net/i/u/34s/2a96cbd8b46e442fc41c2b86b821562f.png', 'size': 'small'}, {'#text': 'https://lastfm.freetls.fastly.net/i/u/64s/2a96cbd8b46e442fc41c2b86b821562f.png', 'size': 'medium'}, {'#text': 'https://lastfm.freetls.fastly.net/i/u/174s/2a96cbd8b46e442fc41c2b86b821562f.png', 'size': 'large'}, {'#text': 'https://lastfm.freetls.fastly.net/i/u/300x300/2a96cbd8b46e442fc41c2b86b821562f.png', 'size': 'extralarge'}, {'#text': 'https://lastfm.freetls.fastly.net/i/u/300x300/2a96cbd8b46e442fc41c2b86b821562f.png', 'size': 'mega'}]}, {'name': 'Lil Aaron', 'listeners': '142710', 'mbid': '', 'url': 'https://www.last.fm/music/Lil+Aaron', 'streamable': '0', 'image': [{'#text': 'https://lastfm.freetls.fastly.net/i/u/34s/2a96cbd8b46e442fc41c2b86b821562f.png', 'size': 'small'}, {'#text': 'https://lastfm.freetls.fastly.net/i/u/64s/2a96cbd8b46e442fc41c2b86b821562f.png', 'size': 'medium'}, {'#text': 'https://lastfm.freetls.fastly.net/i/u/174s/2a96cbd8b46e442fc41c2b86b821562f.png', 'size': 'large'}, {'#text': 'https://lastfm.freetls.fastly.net/i/u/300x300/2a96cbd8b46e442fc41c2b86b821562f.png', 'size': 'extralarge'}, {'#text': 'https://lastfm.freetls.fastly.net/i/u/300x300/2a96cbd8b46e442fc41c2b86b821562f.png', 'size': 'mega'}]}, {'name': 'Lil Kleine', 'listeners': '96677', 'mbid': '', 'url': 'https://www.last.fm/music/Lil+Kleine', 'streamable': '0', 'image': [{'#text': 'https://lastfm.freetls.fastly.net/i/u/34s/2a96cbd8b46e442fc41c2b86b821562f.png', 'size': 'small'}, {'#text': 'https://lastfm.freetls.fastly.net/i/u/64s/2a96cbd8b46e442fc41c2b86b821562f.png', 'size': 'medium'}, {'#text': 'https://lastfm.freetls.fastly.net/i/u/174s/2a96cbd8b46e442fc41c2b86b821562f.png', 'size': 'large'}, {'#text': 'https://lastfm.freetls.fastly.net/i/u/300x300/2a96cbd8b46e442fc41c2b86b821562f.png', 'size': 'extralarge'}, {'#text': 'https://lastfm.freetls.fastly.net/i/u/300x300/2a96cbd8b46e442fc41c2b86b821562f.png', 'size': 'mega'}]}, {'name': 'Lil Gotit', 'listeners': '81392', 'mbid': '', 'url': 'https://www.last.fm/music/Lil+Gotit', 'streamable': '0', 'image': [{'#text': 'https://lastfm.freetls.fastly.net/i/u/34s/2a96cbd8b46e442fc41c2b86b821562f.png', 'size': 'small'}, {'#text': 'https://lastfm.freetls.fastly.net/i/u/64s/2a96cbd8b46e442fc41c2b86b821562f.png', 'size': 'medium'}, {'#text': 'https://lastfm.freetls.fastly.net/i/u/174s/2a96cbd8b46e442fc41c2b86b821562f.png', 'size': 'large'}, {'#text': 'https://lastfm.freetls.fastly.net/i/u/300x300/2a96cbd8b46e442fc41c2b86b821562f.png', 'size': 'extralarge'}, {'#text': 'https://lastfm.freetls.fastly.net/i/u/300x300/2a96cbd8b46e442fc41c2b86b821562f.png', 'size': 'mega'}]}, {'name': 'Lily James', 'listeners': '156398', 'mbid': '', 'url': 'https://www.last.fm/music/Lily+James', 'streamable': '0', 'image': [{'#text': 'https://lastfm.freetls.fastly.net/i/u/34s/2a96cbd8b46e442fc41c2b86b821562f.png', 'size': 'small'}, {'#text': 'https://lastfm.freetls.fastly.net/i/u/64s/2a96cbd8b46e442fc41c2b86b821562f.png', 'size': 'medium'}, {'#text': 'https://lastfm.freetls.fastly.net/i/u/174s/2a96cbd8b46e442fc41c2b86b821562f.png', 'size': 'large'}, {'#text': 'https://lastfm.freetls.fastly.net/i/u/300x300/2a96cbd8b46e442fc41c2b86b821562f.png', 'size': 'extralarge'}, {'#text': 'https://lastfm.freetls.fastly.net/i/u/300x300/2a96cbd8b46e442fc41c2b86b821562f.png', 'size': 'mega'}]}, {'name': 'Lil Candy Paint', 'listeners': '125926', 'mbid': '', 'url': 'https://www.last.fm/music/Lil+Candy+Paint', 'streamable': '0', 'image': [{'#text': 'https://lastfm.freetls.fastly.net/i/u/34s/2a96cbd8b46e442fc41c2b86b821562f.png', 'size': 'small'}, {'#text': 'https://lastfm.freetls.fastly.net/i/u/64s/2a96cbd8b46e442fc41c2b86b821562f.png', 'size': 'medium'}, {'#text': 'https://lastfm.freetls.fastly.net/i/u/174s/2a96cbd8b46e442fc41c2b86b821562f.png', 'size': 'large'}, {'#text': 'https://lastfm.freetls.fastly.net/i/u/300x300/2a96cbd8b46e442fc41c2b86b821562f.png', 'size': 'extralarge'}, {'#text': 'https://lastfm.freetls.fastly.net/i/u/300x300/2a96cbd8b46e442fc41c2b86b821562f.png', 'size': 'mega'}]}, {'name': 'Lil Boodang', 'listeners': '121028', 'mbid': '', 'url': 'https://www.last.fm/music/Lil+Boodang', 'streamable': '0', 'image': [{'#text': 'https://lastfm.freetls.fastly.net/i/u/34s/2a96cbd8b46e442fc41c2b86b821562f.png', 'size': 'small'}, {'#text': 'https://lastfm.freetls.fastly.net/i/u/64s/2a96cbd8b46e442fc41c2b86b821562f.png', 'size': 'medium'}, {'#text': 'https://lastfm.freetls.fastly.net/i/u/174s/2a96cbd8b46e442fc41c2b86b821562f.png', 'size': 'large'}, {'#text': 'https://lastfm.freetls.fastly.net/i/u/300x300/2a96cbd8b46e442fc41c2b86b821562f.png', 'size': 'extralarge'}, {'#text': 'https://lastfm.freetls.fastly.net/i/u/300x300/2a96cbd8b46e442fc41c2b86b821562f.png', 'size': 'mega'}]}, {'name': 'Lil Mariko', 'listeners': '98429', 'mbid': '', 'url': 'https://www.last.fm/music/Lil+Mariko', 'streamable': '0', 'image': [{'#text': 'https://lastfm.freetls.fastly.net/i/u/34s/2a96cbd8b46e442fc41c2b86b821562f.png', 'size': 'small'}, {'#text': 'https://lastfm.freetls.fastly.net/i/u/64s/2a96cbd8b46e442fc41c2b86b821562f.png', 'size': 'medium'}, {'#text': 'https://lastfm.freetls.fastly.net/i/u/174s/2a96cbd8b46e442fc41c2b86b821562f.png', 'size': 'large'}, {'#text': 'https://lastfm.freetls.fastly.net/i/u/300x300/2a96cbd8b46e442fc41c2b86b821562f.png', 'size': 'extralarge'}, {'#text': 'https://lastfm.freetls.fastly.net/i/u/300x300/2a96cbd8b46e442fc41c2b86b821562f.png', 'size': 'mega'}]}, {'name': 'Lilly Wood and The Prick', 'listeners': '199253', 'mbid': '', 'url': 'https://www.last.fm/music/Lilly+Wood+and+The+Prick', 'streamable': '0', 'image': [{'#text': 'https://lastfm.freetls.fastly.net/i/u/34s/2a96cbd8b46e442fc41c2b86b821562f.png', 'size': 'small'}, {'#text': 'https://lastfm.freetls.fastly.net/i/u/64s/2a96cbd8b46e442fc41c2b86b821562f.png', 'size': 'medium'}, {'#text': 'https://lastfm.freetls.fastly.net/i/u/174s/2a96cbd8b46e442fc41c2b86b821562f.png', 'size': 'large'}, {'#text': 'https://lastfm.freetls.fastly.net/i/u/300x300/2a96cbd8b46e442fc41c2b86b821562f.png', 'size': 'extralarge'}, {'#text': 'https://lastfm.freetls.fastly.net/i/u/300x300/2a96cbd8b46e442fc41c2b86b821562f.png', 'size': 'mega'}]}, {'name': 'Lila Downs', 'listeners': '193589', 'mbid': 'ad29ae1c-2eda-4071-9dc8-31910e7e546c', 'url': 'https://www.last.fm/music/Lila+Downs', 'streamable': '0', 'image': [{'#text': 'https://lastfm.freetls.fastly.net/i/u/34s/2a96cbd8b46e442fc41c2b86b821562f.png', 'size': 'small'}, {'#text': 'https://lastfm.freetls.fastly.net/i/u/64s/2a96cbd8b46e442fc41c2b86b821562f.png', 'size': 'medium'}, {'#text': 'https://lastfm.freetls.fastly.net/i/u/174s/2a96cbd8b46e442fc41c2b86b821562f.png', 'size': 'large'}, {'#text': 'https://lastfm.freetls.fastly.net/i/u/300x300/2a96cbd8b46e442fc41c2b86b821562f.png', 'size': 'extralarge'}, {'#text': 'https://lastfm.freetls.fastly.net/i/u/300x300/2a96cbd8b46e442fc41c2b86b821562f.png', 'size': 'mega'}]}, {'name': 'Lil Lotus', 'listeners': '69936', 'mbid': '', 'url': 'https://www.last.fm/music/Lil+Lotus', 'streamable': '0', 'image': [{'#text': 'https://lastfm.freetls.fastly.net/i/u/34s/2a96cbd8b46e442fc41c2b86b821562f.png', 'size': 'small'}, {'#text': 'https://lastfm.freetls.fastly.net/i/u/64s/2a96cbd8b46e442fc41c2b86b821562f.png', 'size': 'medium'}, {'#text': 'https://lastfm.freetls.fastly.net/i/u/174s/2a96cbd8b46e442fc41c2b86b821562f.png', 'size': 'large'}, {'#text': 'https://lastfm.freetls.fastly.net/i/u/300x300/2a96cbd8b46e442fc41c2b86b821562f.png', 'size': 'extralarge'}, {'#text': 'https://lastfm.freetls.fastly.net/i/u/300x300/2a96cbd8b46e442fc41c2b86b821562f.png', 'size': 'mega'}]}, {'name': 'Lil God Dan', 'listeners': '77717', 'mbid': '', 'url': 'https://www.last.fm/music/Lil+God+Dan', 'streamable': '0', 'image': [{'#text': 'https://lastfm.freetls.fastly.net/i/u/34s/2a96cbd8b46e442fc41c2b86b821562f.png', 'size': 'small'}, {'#text': 'https://lastfm.freetls.fastly.net/i/u/64s/2a96cbd8b46e442fc41c2b86b821562f.png', 'size': 'medium'}, {'#text': 'https://lastfm.freetls.fastly.net/i/u/174s/2a96cbd8b46e442fc41c2b86b821562f.png', 'size': 'large'}, {'#text': 'https://lastfm.freetls.fastly.net/i/u/300x300/2a96cbd8b46e442fc41c2b86b821562f.png', 'size': 'extralarge'}, {'#text': 'https://lastfm.freetls.fastly.net/i/u/300x300/2a96cbd8b46e442fc41c2b86b821562f.png', 'size': 'mega'}]}, {'name': 'The Tiger Lillies', 'listeners': '125749', 'mbid': '3ad4f6ec-253f-4050-8849-ca26266edfb8', 'url': 'https://www.last.fm/music/The+Tiger+Lillies', 'streamable': '0', 'image': [{'#text': 'https://lastfm.freetls.fastly.net/i/u/34s/2a96cbd8b46e442fc41c2b86b821562f.png', 'size': 'small'}, {'#text': 'https://lastfm.freetls.fastly.net/i/u/64s/2a96cbd8b46e442fc41c2b86b821562f.png', 'size': 'medium'}, {'#text': 'https://lastfm.freetls.fastly.net/i/u/174s/2a96cbd8b46e442fc41c2b86b821562f.png', 'size': 'large'}, {'#text': 'https://lastfm.freetls.fastly.net/i/u/300x300/2a96cbd8b46e442fc41c2b86b821562f.png', 'size': 'extralarge'}, {'#text': 'https://lastfm.freetls.fastly.net/i/u/300x300/2a96cbd8b46e442fc41c2b86b821562f.png', 'size': 'mega'}]}]}, '@attr': {'for': 'lil'}}}\n"
     ]
    }
   ],
   "source": [
    "print(data)"
   ]
  },
  {
   "cell_type": "code",
   "execution_count": 10,
   "metadata": {},
   "outputs": [],
   "source": [
    "# try:\n",
    "#     response = requests.get(url)\n",
    "#     response.raise_for_status()  # Raise an exception for HTTP errors (optional)\n",
    "#     data = response.json()\n",
    "#     # Process the JSON data as needed\n",
    "# except requests.exceptions.RequestException as e:\n",
    "#     # Handle request-related errors, such as network issues or timeouts\n",
    "#     print(\"An error occurred:\", e)\n",
    "# except ValueError as e:\n",
    "#     # Handle JSON decoding errors\n",
    "#     print(\"Error decoding JSON:\", e)"
   ]
  },
  {
   "cell_type": "markdown",
   "metadata": {},
   "source": [
    "# NOW: YOUR ASSIGNMENT"
   ]
  },
  {
   "cell_type": "markdown",
   "metadata": {},
   "source": [
    "## 1) Search for and print a list of 50 musicians with `lil` in their name, along with the number of listeners they have\n",
    "\n",
    "There are a lot of musicians with \"Lil\" in their name - it used to be all Lil Wayne and Lil Kim, but we live in a new world now!\n",
    "\n",
    "- *Tip: Remember, the domain for the API is `http://ws.audioscrobbler.com`*\n",
    "- *Tip: Make sure you ask the API for 50 musicians! This involves adding another parameter to the URL - notice they all have a `&` before them. [Read the documentation](http://www.last.fm/api/show/artist.search) to find the parameter's name.* \n",
    "- *Tip: When you are looking at any piece of data - is it a dictionary? Look at the keys! Is it a list? Look at the first element!*\n",
    "- *Tip: LOOK AT THE KEYS. and then the other keys and the other keys and the other keys. It's an ugly series of dictionaries!*"
   ]
  },
  {
   "cell_type": "code",
   "execution_count": 26,
   "metadata": {},
   "outputs": [],
   "source": [
    "l_lil = [x['name'] for x in data['results']['artistmatches']['artist']]\n",
    "        "
   ]
  },
  {
   "cell_type": "code",
   "execution_count": 27,
   "metadata": {},
   "outputs": [
    {
     "name": "stdout",
     "output_type": "stream",
     "text": [
      "['LIL UZI VERT', 'LIL PEEP', 'Lil Nas X', 'Lil Baby', 'Lily Allen', 'Lil Yachty', \"Lil' Wayne\", 'Lil Tecca', 'Lil Wayne', 'Lil Durk', 'lil tjay', 'lil skies', 'Lil Darkie', 'Lil Ugly Mane', 'lil Mosey', 'Lil B', 'LIL PUMP', 'LIL TRACY', 'Lil Keed', 'Lil Dicky', \"Lil' Kim\", 'Lil Xan', 'Lil Shine', 'Lil Loaded', 'LIL GNAR', 'lilbubblegum', 'lil mabu', 'Lilypichu', 'Lilly Wood & The Prick', 'LIL DUSTY G', 'Lil Jon & The East Side Boyz', 'Lily Chou-Chou', 'Lil Revive', 'Lilac', 'Lil Jon', 'Lil Eazzyy', 'Fenne Lily', 'LIL BO WEEP', 'Lil Aaron', 'Lil Kleine', 'Lil Gotit', 'Lily James', 'Lil Candy Paint', 'Lil Boodang', 'Lil Mariko', 'Lilly Wood and The Prick', 'Lila Downs', 'Lil Lotus', 'Lil God Dan', 'The Tiger Lillies']\n"
     ]
    }
   ],
   "source": [
    "print(l_lil)"
   ]
  },
  {
   "cell_type": "code",
   "execution_count": 16,
   "metadata": {},
   "outputs": [
    {
     "name": "stdout",
     "output_type": "stream",
     "text": [
      "dict_keys(['artist'])\n"
     ]
    }
   ],
   "source": [
    "print(data['results']['artistmatches'].keys())"
   ]
  },
  {
   "cell_type": "code",
   "execution_count": 49,
   "metadata": {},
   "outputs": [],
   "source": [
    "lil_listeners = []"
   ]
  },
  {
   "cell_type": "code",
   "execution_count": 50,
   "metadata": {},
   "outputs": [
    {
     "name": "stdout",
     "output_type": "stream",
     "text": [
      "LIL UZI VERT\n",
      "1437090\n",
      "[{'name': 'LIL UZI VERT', 'listeners': '1437090'}]\n",
      "---------\n",
      "LIL PEEP\n",
      "1126900\n",
      "[{'name': 'LIL UZI VERT', 'listeners': '1437090'}, {'name': 'LIL PEEP', 'listeners': '1126900'}]\n",
      "---------\n",
      "Lil Nas X\n",
      "1742482\n",
      "[{'name': 'LIL UZI VERT', 'listeners': '1437090'}, {'name': 'LIL PEEP', 'listeners': '1126900'}, {'name': 'Lil Nas X', 'listeners': '1742482'}]\n",
      "---------\n",
      "Lil Baby\n",
      "882477\n",
      "[{'name': 'LIL UZI VERT', 'listeners': '1437090'}, {'name': 'LIL PEEP', 'listeners': '1126900'}, {'name': 'Lil Nas X', 'listeners': '1742482'}, {'name': 'Lil Baby', 'listeners': '882477'}]\n",
      "---------\n",
      "Lily Allen\n",
      "2679551\n",
      "[{'name': 'LIL UZI VERT', 'listeners': '1437090'}, {'name': 'LIL PEEP', 'listeners': '1126900'}, {'name': 'Lil Nas X', 'listeners': '1742482'}, {'name': 'Lil Baby', 'listeners': '882477'}, {'name': 'Lily Allen', 'listeners': '2679551'}]\n",
      "---------\n",
      "Lil Yachty\n",
      "959533\n",
      "[{'name': 'LIL UZI VERT', 'listeners': '1437090'}, {'name': 'LIL PEEP', 'listeners': '1126900'}, {'name': 'Lil Nas X', 'listeners': '1742482'}, {'name': 'Lil Baby', 'listeners': '882477'}, {'name': 'Lily Allen', 'listeners': '2679551'}, {'name': 'Lil Yachty', 'listeners': '959533'}]\n",
      "---------\n",
      "Lil' Wayne\n",
      "3380065\n",
      "[{'name': 'LIL UZI VERT', 'listeners': '1437090'}, {'name': 'LIL PEEP', 'listeners': '1126900'}, {'name': 'Lil Nas X', 'listeners': '1742482'}, {'name': 'Lil Baby', 'listeners': '882477'}, {'name': 'Lily Allen', 'listeners': '2679551'}, {'name': 'Lil Yachty', 'listeners': '959533'}, {'name': \"Lil' Wayne\", 'listeners': '3380065'}]\n",
      "---------\n",
      "Lil Tecca\n",
      "727345\n",
      "[{'name': 'LIL UZI VERT', 'listeners': '1437090'}, {'name': 'LIL PEEP', 'listeners': '1126900'}, {'name': 'Lil Nas X', 'listeners': '1742482'}, {'name': 'Lil Baby', 'listeners': '882477'}, {'name': 'Lily Allen', 'listeners': '2679551'}, {'name': 'Lil Yachty', 'listeners': '959533'}, {'name': \"Lil' Wayne\", 'listeners': '3380065'}, {'name': 'Lil Tecca', 'listeners': '727345'}]\n",
      "---------\n",
      "Lil Wayne\n",
      "1032482\n",
      "[{'name': 'LIL UZI VERT', 'listeners': '1437090'}, {'name': 'LIL PEEP', 'listeners': '1126900'}, {'name': 'Lil Nas X', 'listeners': '1742482'}, {'name': 'Lil Baby', 'listeners': '882477'}, {'name': 'Lily Allen', 'listeners': '2679551'}, {'name': 'Lil Yachty', 'listeners': '959533'}, {'name': \"Lil' Wayne\", 'listeners': '3380065'}, {'name': 'Lil Tecca', 'listeners': '727345'}, {'name': 'Lil Wayne', 'listeners': '1032482'}]\n",
      "---------\n",
      "Lil Durk\n",
      "582672\n",
      "[{'name': 'LIL UZI VERT', 'listeners': '1437090'}, {'name': 'LIL PEEP', 'listeners': '1126900'}, {'name': 'Lil Nas X', 'listeners': '1742482'}, {'name': 'Lil Baby', 'listeners': '882477'}, {'name': 'Lily Allen', 'listeners': '2679551'}, {'name': 'Lil Yachty', 'listeners': '959533'}, {'name': \"Lil' Wayne\", 'listeners': '3380065'}, {'name': 'Lil Tecca', 'listeners': '727345'}, {'name': 'Lil Wayne', 'listeners': '1032482'}, {'name': 'Lil Durk', 'listeners': '582672'}]\n",
      "---------\n",
      "lil tjay\n",
      "575861\n",
      "[{'name': 'LIL UZI VERT', 'listeners': '1437090'}, {'name': 'LIL PEEP', 'listeners': '1126900'}, {'name': 'Lil Nas X', 'listeners': '1742482'}, {'name': 'Lil Baby', 'listeners': '882477'}, {'name': 'Lily Allen', 'listeners': '2679551'}, {'name': 'Lil Yachty', 'listeners': '959533'}, {'name': \"Lil' Wayne\", 'listeners': '3380065'}, {'name': 'Lil Tecca', 'listeners': '727345'}, {'name': 'Lil Wayne', 'listeners': '1032482'}, {'name': 'Lil Durk', 'listeners': '582672'}, {'name': 'lil tjay', 'listeners': '575861'}]\n",
      "---------\n",
      "lil skies\n",
      "490980\n",
      "[{'name': 'LIL UZI VERT', 'listeners': '1437090'}, {'name': 'LIL PEEP', 'listeners': '1126900'}, {'name': 'Lil Nas X', 'listeners': '1742482'}, {'name': 'Lil Baby', 'listeners': '882477'}, {'name': 'Lily Allen', 'listeners': '2679551'}, {'name': 'Lil Yachty', 'listeners': '959533'}, {'name': \"Lil' Wayne\", 'listeners': '3380065'}, {'name': 'Lil Tecca', 'listeners': '727345'}, {'name': 'Lil Wayne', 'listeners': '1032482'}, {'name': 'Lil Durk', 'listeners': '582672'}, {'name': 'lil tjay', 'listeners': '575861'}, {'name': 'lil skies', 'listeners': '490980'}]\n",
      "---------\n",
      "Lil Darkie\n",
      "323960\n",
      "[{'name': 'LIL UZI VERT', 'listeners': '1437090'}, {'name': 'LIL PEEP', 'listeners': '1126900'}, {'name': 'Lil Nas X', 'listeners': '1742482'}, {'name': 'Lil Baby', 'listeners': '882477'}, {'name': 'Lily Allen', 'listeners': '2679551'}, {'name': 'Lil Yachty', 'listeners': '959533'}, {'name': \"Lil' Wayne\", 'listeners': '3380065'}, {'name': 'Lil Tecca', 'listeners': '727345'}, {'name': 'Lil Wayne', 'listeners': '1032482'}, {'name': 'Lil Durk', 'listeners': '582672'}, {'name': 'lil tjay', 'listeners': '575861'}, {'name': 'lil skies', 'listeners': '490980'}, {'name': 'Lil Darkie', 'listeners': '323960'}]\n",
      "---------\n",
      "Lil Ugly Mane\n",
      "259708\n",
      "[{'name': 'LIL UZI VERT', 'listeners': '1437090'}, {'name': 'LIL PEEP', 'listeners': '1126900'}, {'name': 'Lil Nas X', 'listeners': '1742482'}, {'name': 'Lil Baby', 'listeners': '882477'}, {'name': 'Lily Allen', 'listeners': '2679551'}, {'name': 'Lil Yachty', 'listeners': '959533'}, {'name': \"Lil' Wayne\", 'listeners': '3380065'}, {'name': 'Lil Tecca', 'listeners': '727345'}, {'name': 'Lil Wayne', 'listeners': '1032482'}, {'name': 'Lil Durk', 'listeners': '582672'}, {'name': 'lil tjay', 'listeners': '575861'}, {'name': 'lil skies', 'listeners': '490980'}, {'name': 'Lil Darkie', 'listeners': '323960'}, {'name': 'Lil Ugly Mane', 'listeners': '259708'}]\n",
      "---------\n",
      "lil Mosey\n",
      "592046\n",
      "[{'name': 'LIL UZI VERT', 'listeners': '1437090'}, {'name': 'LIL PEEP', 'listeners': '1126900'}, {'name': 'Lil Nas X', 'listeners': '1742482'}, {'name': 'Lil Baby', 'listeners': '882477'}, {'name': 'Lily Allen', 'listeners': '2679551'}, {'name': 'Lil Yachty', 'listeners': '959533'}, {'name': \"Lil' Wayne\", 'listeners': '3380065'}, {'name': 'Lil Tecca', 'listeners': '727345'}, {'name': 'Lil Wayne', 'listeners': '1032482'}, {'name': 'Lil Durk', 'listeners': '582672'}, {'name': 'lil tjay', 'listeners': '575861'}, {'name': 'lil skies', 'listeners': '490980'}, {'name': 'Lil Darkie', 'listeners': '323960'}, {'name': 'Lil Ugly Mane', 'listeners': '259708'}, {'name': 'lil Mosey', 'listeners': '592046'}]\n",
      "---------\n",
      "Lil B\n",
      "388057\n",
      "[{'name': 'LIL UZI VERT', 'listeners': '1437090'}, {'name': 'LIL PEEP', 'listeners': '1126900'}, {'name': 'Lil Nas X', 'listeners': '1742482'}, {'name': 'Lil Baby', 'listeners': '882477'}, {'name': 'Lily Allen', 'listeners': '2679551'}, {'name': 'Lil Yachty', 'listeners': '959533'}, {'name': \"Lil' Wayne\", 'listeners': '3380065'}, {'name': 'Lil Tecca', 'listeners': '727345'}, {'name': 'Lil Wayne', 'listeners': '1032482'}, {'name': 'Lil Durk', 'listeners': '582672'}, {'name': 'lil tjay', 'listeners': '575861'}, {'name': 'lil skies', 'listeners': '490980'}, {'name': 'Lil Darkie', 'listeners': '323960'}, {'name': 'Lil Ugly Mane', 'listeners': '259708'}, {'name': 'lil Mosey', 'listeners': '592046'}, {'name': 'Lil B', 'listeners': '388057'}]\n",
      "---------\n",
      "LIL PUMP\n",
      "502071\n",
      "[{'name': 'LIL UZI VERT', 'listeners': '1437090'}, {'name': 'LIL PEEP', 'listeners': '1126900'}, {'name': 'Lil Nas X', 'listeners': '1742482'}, {'name': 'Lil Baby', 'listeners': '882477'}, {'name': 'Lily Allen', 'listeners': '2679551'}, {'name': 'Lil Yachty', 'listeners': '959533'}, {'name': \"Lil' Wayne\", 'listeners': '3380065'}, {'name': 'Lil Tecca', 'listeners': '727345'}, {'name': 'Lil Wayne', 'listeners': '1032482'}, {'name': 'Lil Durk', 'listeners': '582672'}, {'name': 'lil tjay', 'listeners': '575861'}, {'name': 'lil skies', 'listeners': '490980'}, {'name': 'Lil Darkie', 'listeners': '323960'}, {'name': 'Lil Ugly Mane', 'listeners': '259708'}, {'name': 'lil Mosey', 'listeners': '592046'}, {'name': 'Lil B', 'listeners': '388057'}, {'name': 'LIL PUMP', 'listeners': '502071'}]\n",
      "---------\n",
      "LIL TRACY\n",
      "208370\n",
      "[{'name': 'LIL UZI VERT', 'listeners': '1437090'}, {'name': 'LIL PEEP', 'listeners': '1126900'}, {'name': 'Lil Nas X', 'listeners': '1742482'}, {'name': 'Lil Baby', 'listeners': '882477'}, {'name': 'Lily Allen', 'listeners': '2679551'}, {'name': 'Lil Yachty', 'listeners': '959533'}, {'name': \"Lil' Wayne\", 'listeners': '3380065'}, {'name': 'Lil Tecca', 'listeners': '727345'}, {'name': 'Lil Wayne', 'listeners': '1032482'}, {'name': 'Lil Durk', 'listeners': '582672'}, {'name': 'lil tjay', 'listeners': '575861'}, {'name': 'lil skies', 'listeners': '490980'}, {'name': 'Lil Darkie', 'listeners': '323960'}, {'name': 'Lil Ugly Mane', 'listeners': '259708'}, {'name': 'lil Mosey', 'listeners': '592046'}, {'name': 'Lil B', 'listeners': '388057'}, {'name': 'LIL PUMP', 'listeners': '502071'}, {'name': 'LIL TRACY', 'listeners': '208370'}]\n",
      "---------\n",
      "Lil Keed\n",
      "240057\n",
      "[{'name': 'LIL UZI VERT', 'listeners': '1437090'}, {'name': 'LIL PEEP', 'listeners': '1126900'}, {'name': 'Lil Nas X', 'listeners': '1742482'}, {'name': 'Lil Baby', 'listeners': '882477'}, {'name': 'Lily Allen', 'listeners': '2679551'}, {'name': 'Lil Yachty', 'listeners': '959533'}, {'name': \"Lil' Wayne\", 'listeners': '3380065'}, {'name': 'Lil Tecca', 'listeners': '727345'}, {'name': 'Lil Wayne', 'listeners': '1032482'}, {'name': 'Lil Durk', 'listeners': '582672'}, {'name': 'lil tjay', 'listeners': '575861'}, {'name': 'lil skies', 'listeners': '490980'}, {'name': 'Lil Darkie', 'listeners': '323960'}, {'name': 'Lil Ugly Mane', 'listeners': '259708'}, {'name': 'lil Mosey', 'listeners': '592046'}, {'name': 'Lil B', 'listeners': '388057'}, {'name': 'LIL PUMP', 'listeners': '502071'}, {'name': 'LIL TRACY', 'listeners': '208370'}, {'name': 'Lil Keed', 'listeners': '240057'}]\n",
      "---------\n",
      "Lil Dicky\n",
      "460353\n",
      "[{'name': 'LIL UZI VERT', 'listeners': '1437090'}, {'name': 'LIL PEEP', 'listeners': '1126900'}, {'name': 'Lil Nas X', 'listeners': '1742482'}, {'name': 'Lil Baby', 'listeners': '882477'}, {'name': 'Lily Allen', 'listeners': '2679551'}, {'name': 'Lil Yachty', 'listeners': '959533'}, {'name': \"Lil' Wayne\", 'listeners': '3380065'}, {'name': 'Lil Tecca', 'listeners': '727345'}, {'name': 'Lil Wayne', 'listeners': '1032482'}, {'name': 'Lil Durk', 'listeners': '582672'}, {'name': 'lil tjay', 'listeners': '575861'}, {'name': 'lil skies', 'listeners': '490980'}, {'name': 'Lil Darkie', 'listeners': '323960'}, {'name': 'Lil Ugly Mane', 'listeners': '259708'}, {'name': 'lil Mosey', 'listeners': '592046'}, {'name': 'Lil B', 'listeners': '388057'}, {'name': 'LIL PUMP', 'listeners': '502071'}, {'name': 'LIL TRACY', 'listeners': '208370'}, {'name': 'Lil Keed', 'listeners': '240057'}, {'name': 'Lil Dicky', 'listeners': '460353'}]\n",
      "---------\n",
      "Lil' Kim\n",
      "623635\n",
      "[{'name': 'LIL UZI VERT', 'listeners': '1437090'}, {'name': 'LIL PEEP', 'listeners': '1126900'}, {'name': 'Lil Nas X', 'listeners': '1742482'}, {'name': 'Lil Baby', 'listeners': '882477'}, {'name': 'Lily Allen', 'listeners': '2679551'}, {'name': 'Lil Yachty', 'listeners': '959533'}, {'name': \"Lil' Wayne\", 'listeners': '3380065'}, {'name': 'Lil Tecca', 'listeners': '727345'}, {'name': 'Lil Wayne', 'listeners': '1032482'}, {'name': 'Lil Durk', 'listeners': '582672'}, {'name': 'lil tjay', 'listeners': '575861'}, {'name': 'lil skies', 'listeners': '490980'}, {'name': 'Lil Darkie', 'listeners': '323960'}, {'name': 'Lil Ugly Mane', 'listeners': '259708'}, {'name': 'lil Mosey', 'listeners': '592046'}, {'name': 'Lil B', 'listeners': '388057'}, {'name': 'LIL PUMP', 'listeners': '502071'}, {'name': 'LIL TRACY', 'listeners': '208370'}, {'name': 'Lil Keed', 'listeners': '240057'}, {'name': 'Lil Dicky', 'listeners': '460353'}, {'name': \"Lil' Kim\", 'listeners': '623635'}]\n",
      "---------\n",
      "Lil Xan\n",
      "323806\n",
      "[{'name': 'LIL UZI VERT', 'listeners': '1437090'}, {'name': 'LIL PEEP', 'listeners': '1126900'}, {'name': 'Lil Nas X', 'listeners': '1742482'}, {'name': 'Lil Baby', 'listeners': '882477'}, {'name': 'Lily Allen', 'listeners': '2679551'}, {'name': 'Lil Yachty', 'listeners': '959533'}, {'name': \"Lil' Wayne\", 'listeners': '3380065'}, {'name': 'Lil Tecca', 'listeners': '727345'}, {'name': 'Lil Wayne', 'listeners': '1032482'}, {'name': 'Lil Durk', 'listeners': '582672'}, {'name': 'lil tjay', 'listeners': '575861'}, {'name': 'lil skies', 'listeners': '490980'}, {'name': 'Lil Darkie', 'listeners': '323960'}, {'name': 'Lil Ugly Mane', 'listeners': '259708'}, {'name': 'lil Mosey', 'listeners': '592046'}, {'name': 'Lil B', 'listeners': '388057'}, {'name': 'LIL PUMP', 'listeners': '502071'}, {'name': 'LIL TRACY', 'listeners': '208370'}, {'name': 'Lil Keed', 'listeners': '240057'}, {'name': 'Lil Dicky', 'listeners': '460353'}, {'name': \"Lil' Kim\", 'listeners': '623635'}, {'name': 'Lil Xan', 'listeners': '323806'}]\n",
      "---------\n",
      "Lil Shine\n",
      "49578\n",
      "[{'name': 'LIL UZI VERT', 'listeners': '1437090'}, {'name': 'LIL PEEP', 'listeners': '1126900'}, {'name': 'Lil Nas X', 'listeners': '1742482'}, {'name': 'Lil Baby', 'listeners': '882477'}, {'name': 'Lily Allen', 'listeners': '2679551'}, {'name': 'Lil Yachty', 'listeners': '959533'}, {'name': \"Lil' Wayne\", 'listeners': '3380065'}, {'name': 'Lil Tecca', 'listeners': '727345'}, {'name': 'Lil Wayne', 'listeners': '1032482'}, {'name': 'Lil Durk', 'listeners': '582672'}, {'name': 'lil tjay', 'listeners': '575861'}, {'name': 'lil skies', 'listeners': '490980'}, {'name': 'Lil Darkie', 'listeners': '323960'}, {'name': 'Lil Ugly Mane', 'listeners': '259708'}, {'name': 'lil Mosey', 'listeners': '592046'}, {'name': 'Lil B', 'listeners': '388057'}, {'name': 'LIL PUMP', 'listeners': '502071'}, {'name': 'LIL TRACY', 'listeners': '208370'}, {'name': 'Lil Keed', 'listeners': '240057'}, {'name': 'Lil Dicky', 'listeners': '460353'}, {'name': \"Lil' Kim\", 'listeners': '623635'}, {'name': 'Lil Xan', 'listeners': '323806'}, {'name': 'Lil Shine', 'listeners': '49578'}]\n",
      "---------\n",
      "Lil Loaded\n",
      "157423\n",
      "[{'name': 'LIL UZI VERT', 'listeners': '1437090'}, {'name': 'LIL PEEP', 'listeners': '1126900'}, {'name': 'Lil Nas X', 'listeners': '1742482'}, {'name': 'Lil Baby', 'listeners': '882477'}, {'name': 'Lily Allen', 'listeners': '2679551'}, {'name': 'Lil Yachty', 'listeners': '959533'}, {'name': \"Lil' Wayne\", 'listeners': '3380065'}, {'name': 'Lil Tecca', 'listeners': '727345'}, {'name': 'Lil Wayne', 'listeners': '1032482'}, {'name': 'Lil Durk', 'listeners': '582672'}, {'name': 'lil tjay', 'listeners': '575861'}, {'name': 'lil skies', 'listeners': '490980'}, {'name': 'Lil Darkie', 'listeners': '323960'}, {'name': 'Lil Ugly Mane', 'listeners': '259708'}, {'name': 'lil Mosey', 'listeners': '592046'}, {'name': 'Lil B', 'listeners': '388057'}, {'name': 'LIL PUMP', 'listeners': '502071'}, {'name': 'LIL TRACY', 'listeners': '208370'}, {'name': 'Lil Keed', 'listeners': '240057'}, {'name': 'Lil Dicky', 'listeners': '460353'}, {'name': \"Lil' Kim\", 'listeners': '623635'}, {'name': 'Lil Xan', 'listeners': '323806'}, {'name': 'Lil Shine', 'listeners': '49578'}, {'name': 'Lil Loaded', 'listeners': '157423'}]\n",
      "---------\n",
      "LIL GNAR\n",
      "243787\n",
      "[{'name': 'LIL UZI VERT', 'listeners': '1437090'}, {'name': 'LIL PEEP', 'listeners': '1126900'}, {'name': 'Lil Nas X', 'listeners': '1742482'}, {'name': 'Lil Baby', 'listeners': '882477'}, {'name': 'Lily Allen', 'listeners': '2679551'}, {'name': 'Lil Yachty', 'listeners': '959533'}, {'name': \"Lil' Wayne\", 'listeners': '3380065'}, {'name': 'Lil Tecca', 'listeners': '727345'}, {'name': 'Lil Wayne', 'listeners': '1032482'}, {'name': 'Lil Durk', 'listeners': '582672'}, {'name': 'lil tjay', 'listeners': '575861'}, {'name': 'lil skies', 'listeners': '490980'}, {'name': 'Lil Darkie', 'listeners': '323960'}, {'name': 'Lil Ugly Mane', 'listeners': '259708'}, {'name': 'lil Mosey', 'listeners': '592046'}, {'name': 'Lil B', 'listeners': '388057'}, {'name': 'LIL PUMP', 'listeners': '502071'}, {'name': 'LIL TRACY', 'listeners': '208370'}, {'name': 'Lil Keed', 'listeners': '240057'}, {'name': 'Lil Dicky', 'listeners': '460353'}, {'name': \"Lil' Kim\", 'listeners': '623635'}, {'name': 'Lil Xan', 'listeners': '323806'}, {'name': 'Lil Shine', 'listeners': '49578'}, {'name': 'Lil Loaded', 'listeners': '157423'}, {'name': 'LIL GNAR', 'listeners': '243787'}]\n",
      "---------\n",
      "lilbubblegum\n",
      "145698\n",
      "[{'name': 'LIL UZI VERT', 'listeners': '1437090'}, {'name': 'LIL PEEP', 'listeners': '1126900'}, {'name': 'Lil Nas X', 'listeners': '1742482'}, {'name': 'Lil Baby', 'listeners': '882477'}, {'name': 'Lily Allen', 'listeners': '2679551'}, {'name': 'Lil Yachty', 'listeners': '959533'}, {'name': \"Lil' Wayne\", 'listeners': '3380065'}, {'name': 'Lil Tecca', 'listeners': '727345'}, {'name': 'Lil Wayne', 'listeners': '1032482'}, {'name': 'Lil Durk', 'listeners': '582672'}, {'name': 'lil tjay', 'listeners': '575861'}, {'name': 'lil skies', 'listeners': '490980'}, {'name': 'Lil Darkie', 'listeners': '323960'}, {'name': 'Lil Ugly Mane', 'listeners': '259708'}, {'name': 'lil Mosey', 'listeners': '592046'}, {'name': 'Lil B', 'listeners': '388057'}, {'name': 'LIL PUMP', 'listeners': '502071'}, {'name': 'LIL TRACY', 'listeners': '208370'}, {'name': 'Lil Keed', 'listeners': '240057'}, {'name': 'Lil Dicky', 'listeners': '460353'}, {'name': \"Lil' Kim\", 'listeners': '623635'}, {'name': 'Lil Xan', 'listeners': '323806'}, {'name': 'Lil Shine', 'listeners': '49578'}, {'name': 'Lil Loaded', 'listeners': '157423'}, {'name': 'LIL GNAR', 'listeners': '243787'}, {'name': 'lilbubblegum', 'listeners': '145698'}]\n",
      "---------\n",
      "lil mabu\n",
      "162133\n",
      "[{'name': 'LIL UZI VERT', 'listeners': '1437090'}, {'name': 'LIL PEEP', 'listeners': '1126900'}, {'name': 'Lil Nas X', 'listeners': '1742482'}, {'name': 'Lil Baby', 'listeners': '882477'}, {'name': 'Lily Allen', 'listeners': '2679551'}, {'name': 'Lil Yachty', 'listeners': '959533'}, {'name': \"Lil' Wayne\", 'listeners': '3380065'}, {'name': 'Lil Tecca', 'listeners': '727345'}, {'name': 'Lil Wayne', 'listeners': '1032482'}, {'name': 'Lil Durk', 'listeners': '582672'}, {'name': 'lil tjay', 'listeners': '575861'}, {'name': 'lil skies', 'listeners': '490980'}, {'name': 'Lil Darkie', 'listeners': '323960'}, {'name': 'Lil Ugly Mane', 'listeners': '259708'}, {'name': 'lil Mosey', 'listeners': '592046'}, {'name': 'Lil B', 'listeners': '388057'}, {'name': 'LIL PUMP', 'listeners': '502071'}, {'name': 'LIL TRACY', 'listeners': '208370'}, {'name': 'Lil Keed', 'listeners': '240057'}, {'name': 'Lil Dicky', 'listeners': '460353'}, {'name': \"Lil' Kim\", 'listeners': '623635'}, {'name': 'Lil Xan', 'listeners': '323806'}, {'name': 'Lil Shine', 'listeners': '49578'}, {'name': 'Lil Loaded', 'listeners': '157423'}, {'name': 'LIL GNAR', 'listeners': '243787'}, {'name': 'lilbubblegum', 'listeners': '145698'}, {'name': 'lil mabu', 'listeners': '162133'}]\n",
      "---------\n",
      "Lilypichu\n",
      "95064\n",
      "[{'name': 'LIL UZI VERT', 'listeners': '1437090'}, {'name': 'LIL PEEP', 'listeners': '1126900'}, {'name': 'Lil Nas X', 'listeners': '1742482'}, {'name': 'Lil Baby', 'listeners': '882477'}, {'name': 'Lily Allen', 'listeners': '2679551'}, {'name': 'Lil Yachty', 'listeners': '959533'}, {'name': \"Lil' Wayne\", 'listeners': '3380065'}, {'name': 'Lil Tecca', 'listeners': '727345'}, {'name': 'Lil Wayne', 'listeners': '1032482'}, {'name': 'Lil Durk', 'listeners': '582672'}, {'name': 'lil tjay', 'listeners': '575861'}, {'name': 'lil skies', 'listeners': '490980'}, {'name': 'Lil Darkie', 'listeners': '323960'}, {'name': 'Lil Ugly Mane', 'listeners': '259708'}, {'name': 'lil Mosey', 'listeners': '592046'}, {'name': 'Lil B', 'listeners': '388057'}, {'name': 'LIL PUMP', 'listeners': '502071'}, {'name': 'LIL TRACY', 'listeners': '208370'}, {'name': 'Lil Keed', 'listeners': '240057'}, {'name': 'Lil Dicky', 'listeners': '460353'}, {'name': \"Lil' Kim\", 'listeners': '623635'}, {'name': 'Lil Xan', 'listeners': '323806'}, {'name': 'Lil Shine', 'listeners': '49578'}, {'name': 'Lil Loaded', 'listeners': '157423'}, {'name': 'LIL GNAR', 'listeners': '243787'}, {'name': 'lilbubblegum', 'listeners': '145698'}, {'name': 'lil mabu', 'listeners': '162133'}, {'name': 'Lilypichu', 'listeners': '95064'}]\n",
      "---------\n",
      "Lilly Wood & The Prick\n",
      "437989\n",
      "[{'name': 'LIL UZI VERT', 'listeners': '1437090'}, {'name': 'LIL PEEP', 'listeners': '1126900'}, {'name': 'Lil Nas X', 'listeners': '1742482'}, {'name': 'Lil Baby', 'listeners': '882477'}, {'name': 'Lily Allen', 'listeners': '2679551'}, {'name': 'Lil Yachty', 'listeners': '959533'}, {'name': \"Lil' Wayne\", 'listeners': '3380065'}, {'name': 'Lil Tecca', 'listeners': '727345'}, {'name': 'Lil Wayne', 'listeners': '1032482'}, {'name': 'Lil Durk', 'listeners': '582672'}, {'name': 'lil tjay', 'listeners': '575861'}, {'name': 'lil skies', 'listeners': '490980'}, {'name': 'Lil Darkie', 'listeners': '323960'}, {'name': 'Lil Ugly Mane', 'listeners': '259708'}, {'name': 'lil Mosey', 'listeners': '592046'}, {'name': 'Lil B', 'listeners': '388057'}, {'name': 'LIL PUMP', 'listeners': '502071'}, {'name': 'LIL TRACY', 'listeners': '208370'}, {'name': 'Lil Keed', 'listeners': '240057'}, {'name': 'Lil Dicky', 'listeners': '460353'}, {'name': \"Lil' Kim\", 'listeners': '623635'}, {'name': 'Lil Xan', 'listeners': '323806'}, {'name': 'Lil Shine', 'listeners': '49578'}, {'name': 'Lil Loaded', 'listeners': '157423'}, {'name': 'LIL GNAR', 'listeners': '243787'}, {'name': 'lilbubblegum', 'listeners': '145698'}, {'name': 'lil mabu', 'listeners': '162133'}, {'name': 'Lilypichu', 'listeners': '95064'}, {'name': 'Lilly Wood & The Prick', 'listeners': '437989'}]\n",
      "---------\n",
      "LIL DUSTY G\n",
      "134146\n",
      "[{'name': 'LIL UZI VERT', 'listeners': '1437090'}, {'name': 'LIL PEEP', 'listeners': '1126900'}, {'name': 'Lil Nas X', 'listeners': '1742482'}, {'name': 'Lil Baby', 'listeners': '882477'}, {'name': 'Lily Allen', 'listeners': '2679551'}, {'name': 'Lil Yachty', 'listeners': '959533'}, {'name': \"Lil' Wayne\", 'listeners': '3380065'}, {'name': 'Lil Tecca', 'listeners': '727345'}, {'name': 'Lil Wayne', 'listeners': '1032482'}, {'name': 'Lil Durk', 'listeners': '582672'}, {'name': 'lil tjay', 'listeners': '575861'}, {'name': 'lil skies', 'listeners': '490980'}, {'name': 'Lil Darkie', 'listeners': '323960'}, {'name': 'Lil Ugly Mane', 'listeners': '259708'}, {'name': 'lil Mosey', 'listeners': '592046'}, {'name': 'Lil B', 'listeners': '388057'}, {'name': 'LIL PUMP', 'listeners': '502071'}, {'name': 'LIL TRACY', 'listeners': '208370'}, {'name': 'Lil Keed', 'listeners': '240057'}, {'name': 'Lil Dicky', 'listeners': '460353'}, {'name': \"Lil' Kim\", 'listeners': '623635'}, {'name': 'Lil Xan', 'listeners': '323806'}, {'name': 'Lil Shine', 'listeners': '49578'}, {'name': 'Lil Loaded', 'listeners': '157423'}, {'name': 'LIL GNAR', 'listeners': '243787'}, {'name': 'lilbubblegum', 'listeners': '145698'}, {'name': 'lil mabu', 'listeners': '162133'}, {'name': 'Lilypichu', 'listeners': '95064'}, {'name': 'Lilly Wood & The Prick', 'listeners': '437989'}, {'name': 'LIL DUSTY G', 'listeners': '134146'}]\n",
      "---------\n",
      "Lil Jon & The East Side Boyz\n",
      "670201\n",
      "[{'name': 'LIL UZI VERT', 'listeners': '1437090'}, {'name': 'LIL PEEP', 'listeners': '1126900'}, {'name': 'Lil Nas X', 'listeners': '1742482'}, {'name': 'Lil Baby', 'listeners': '882477'}, {'name': 'Lily Allen', 'listeners': '2679551'}, {'name': 'Lil Yachty', 'listeners': '959533'}, {'name': \"Lil' Wayne\", 'listeners': '3380065'}, {'name': 'Lil Tecca', 'listeners': '727345'}, {'name': 'Lil Wayne', 'listeners': '1032482'}, {'name': 'Lil Durk', 'listeners': '582672'}, {'name': 'lil tjay', 'listeners': '575861'}, {'name': 'lil skies', 'listeners': '490980'}, {'name': 'Lil Darkie', 'listeners': '323960'}, {'name': 'Lil Ugly Mane', 'listeners': '259708'}, {'name': 'lil Mosey', 'listeners': '592046'}, {'name': 'Lil B', 'listeners': '388057'}, {'name': 'LIL PUMP', 'listeners': '502071'}, {'name': 'LIL TRACY', 'listeners': '208370'}, {'name': 'Lil Keed', 'listeners': '240057'}, {'name': 'Lil Dicky', 'listeners': '460353'}, {'name': \"Lil' Kim\", 'listeners': '623635'}, {'name': 'Lil Xan', 'listeners': '323806'}, {'name': 'Lil Shine', 'listeners': '49578'}, {'name': 'Lil Loaded', 'listeners': '157423'}, {'name': 'LIL GNAR', 'listeners': '243787'}, {'name': 'lilbubblegum', 'listeners': '145698'}, {'name': 'lil mabu', 'listeners': '162133'}, {'name': 'Lilypichu', 'listeners': '95064'}, {'name': 'Lilly Wood & The Prick', 'listeners': '437989'}, {'name': 'LIL DUSTY G', 'listeners': '134146'}, {'name': 'Lil Jon & The East Side Boyz', 'listeners': '670201'}]\n",
      "---------\n",
      "Lily Chou-Chou\n",
      "118515\n",
      "[{'name': 'LIL UZI VERT', 'listeners': '1437090'}, {'name': 'LIL PEEP', 'listeners': '1126900'}, {'name': 'Lil Nas X', 'listeners': '1742482'}, {'name': 'Lil Baby', 'listeners': '882477'}, {'name': 'Lily Allen', 'listeners': '2679551'}, {'name': 'Lil Yachty', 'listeners': '959533'}, {'name': \"Lil' Wayne\", 'listeners': '3380065'}, {'name': 'Lil Tecca', 'listeners': '727345'}, {'name': 'Lil Wayne', 'listeners': '1032482'}, {'name': 'Lil Durk', 'listeners': '582672'}, {'name': 'lil tjay', 'listeners': '575861'}, {'name': 'lil skies', 'listeners': '490980'}, {'name': 'Lil Darkie', 'listeners': '323960'}, {'name': 'Lil Ugly Mane', 'listeners': '259708'}, {'name': 'lil Mosey', 'listeners': '592046'}, {'name': 'Lil B', 'listeners': '388057'}, {'name': 'LIL PUMP', 'listeners': '502071'}, {'name': 'LIL TRACY', 'listeners': '208370'}, {'name': 'Lil Keed', 'listeners': '240057'}, {'name': 'Lil Dicky', 'listeners': '460353'}, {'name': \"Lil' Kim\", 'listeners': '623635'}, {'name': 'Lil Xan', 'listeners': '323806'}, {'name': 'Lil Shine', 'listeners': '49578'}, {'name': 'Lil Loaded', 'listeners': '157423'}, {'name': 'LIL GNAR', 'listeners': '243787'}, {'name': 'lilbubblegum', 'listeners': '145698'}, {'name': 'lil mabu', 'listeners': '162133'}, {'name': 'Lilypichu', 'listeners': '95064'}, {'name': 'Lilly Wood & The Prick', 'listeners': '437989'}, {'name': 'LIL DUSTY G', 'listeners': '134146'}, {'name': 'Lil Jon & The East Side Boyz', 'listeners': '670201'}, {'name': 'Lily Chou-Chou', 'listeners': '118515'}]\n",
      "---------\n",
      "Lil Revive\n",
      "46682\n",
      "[{'name': 'LIL UZI VERT', 'listeners': '1437090'}, {'name': 'LIL PEEP', 'listeners': '1126900'}, {'name': 'Lil Nas X', 'listeners': '1742482'}, {'name': 'Lil Baby', 'listeners': '882477'}, {'name': 'Lily Allen', 'listeners': '2679551'}, {'name': 'Lil Yachty', 'listeners': '959533'}, {'name': \"Lil' Wayne\", 'listeners': '3380065'}, {'name': 'Lil Tecca', 'listeners': '727345'}, {'name': 'Lil Wayne', 'listeners': '1032482'}, {'name': 'Lil Durk', 'listeners': '582672'}, {'name': 'lil tjay', 'listeners': '575861'}, {'name': 'lil skies', 'listeners': '490980'}, {'name': 'Lil Darkie', 'listeners': '323960'}, {'name': 'Lil Ugly Mane', 'listeners': '259708'}, {'name': 'lil Mosey', 'listeners': '592046'}, {'name': 'Lil B', 'listeners': '388057'}, {'name': 'LIL PUMP', 'listeners': '502071'}, {'name': 'LIL TRACY', 'listeners': '208370'}, {'name': 'Lil Keed', 'listeners': '240057'}, {'name': 'Lil Dicky', 'listeners': '460353'}, {'name': \"Lil' Kim\", 'listeners': '623635'}, {'name': 'Lil Xan', 'listeners': '323806'}, {'name': 'Lil Shine', 'listeners': '49578'}, {'name': 'Lil Loaded', 'listeners': '157423'}, {'name': 'LIL GNAR', 'listeners': '243787'}, {'name': 'lilbubblegum', 'listeners': '145698'}, {'name': 'lil mabu', 'listeners': '162133'}, {'name': 'Lilypichu', 'listeners': '95064'}, {'name': 'Lilly Wood & The Prick', 'listeners': '437989'}, {'name': 'LIL DUSTY G', 'listeners': '134146'}, {'name': 'Lil Jon & The East Side Boyz', 'listeners': '670201'}, {'name': 'Lily Chou-Chou', 'listeners': '118515'}, {'name': 'Lil Revive', 'listeners': '46682'}]\n",
      "---------\n",
      "Lilac\n",
      "261229\n",
      "[{'name': 'LIL UZI VERT', 'listeners': '1437090'}, {'name': 'LIL PEEP', 'listeners': '1126900'}, {'name': 'Lil Nas X', 'listeners': '1742482'}, {'name': 'Lil Baby', 'listeners': '882477'}, {'name': 'Lily Allen', 'listeners': '2679551'}, {'name': 'Lil Yachty', 'listeners': '959533'}, {'name': \"Lil' Wayne\", 'listeners': '3380065'}, {'name': 'Lil Tecca', 'listeners': '727345'}, {'name': 'Lil Wayne', 'listeners': '1032482'}, {'name': 'Lil Durk', 'listeners': '582672'}, {'name': 'lil tjay', 'listeners': '575861'}, {'name': 'lil skies', 'listeners': '490980'}, {'name': 'Lil Darkie', 'listeners': '323960'}, {'name': 'Lil Ugly Mane', 'listeners': '259708'}, {'name': 'lil Mosey', 'listeners': '592046'}, {'name': 'Lil B', 'listeners': '388057'}, {'name': 'LIL PUMP', 'listeners': '502071'}, {'name': 'LIL TRACY', 'listeners': '208370'}, {'name': 'Lil Keed', 'listeners': '240057'}, {'name': 'Lil Dicky', 'listeners': '460353'}, {'name': \"Lil' Kim\", 'listeners': '623635'}, {'name': 'Lil Xan', 'listeners': '323806'}, {'name': 'Lil Shine', 'listeners': '49578'}, {'name': 'Lil Loaded', 'listeners': '157423'}, {'name': 'LIL GNAR', 'listeners': '243787'}, {'name': 'lilbubblegum', 'listeners': '145698'}, {'name': 'lil mabu', 'listeners': '162133'}, {'name': 'Lilypichu', 'listeners': '95064'}, {'name': 'Lilly Wood & The Prick', 'listeners': '437989'}, {'name': 'LIL DUSTY G', 'listeners': '134146'}, {'name': 'Lil Jon & The East Side Boyz', 'listeners': '670201'}, {'name': 'Lily Chou-Chou', 'listeners': '118515'}, {'name': 'Lil Revive', 'listeners': '46682'}, {'name': 'Lilac', 'listeners': '261229'}]\n",
      "---------\n",
      "Lil Jon\n",
      "698096\n",
      "[{'name': 'LIL UZI VERT', 'listeners': '1437090'}, {'name': 'LIL PEEP', 'listeners': '1126900'}, {'name': 'Lil Nas X', 'listeners': '1742482'}, {'name': 'Lil Baby', 'listeners': '882477'}, {'name': 'Lily Allen', 'listeners': '2679551'}, {'name': 'Lil Yachty', 'listeners': '959533'}, {'name': \"Lil' Wayne\", 'listeners': '3380065'}, {'name': 'Lil Tecca', 'listeners': '727345'}, {'name': 'Lil Wayne', 'listeners': '1032482'}, {'name': 'Lil Durk', 'listeners': '582672'}, {'name': 'lil tjay', 'listeners': '575861'}, {'name': 'lil skies', 'listeners': '490980'}, {'name': 'Lil Darkie', 'listeners': '323960'}, {'name': 'Lil Ugly Mane', 'listeners': '259708'}, {'name': 'lil Mosey', 'listeners': '592046'}, {'name': 'Lil B', 'listeners': '388057'}, {'name': 'LIL PUMP', 'listeners': '502071'}, {'name': 'LIL TRACY', 'listeners': '208370'}, {'name': 'Lil Keed', 'listeners': '240057'}, {'name': 'Lil Dicky', 'listeners': '460353'}, {'name': \"Lil' Kim\", 'listeners': '623635'}, {'name': 'Lil Xan', 'listeners': '323806'}, {'name': 'Lil Shine', 'listeners': '49578'}, {'name': 'Lil Loaded', 'listeners': '157423'}, {'name': 'LIL GNAR', 'listeners': '243787'}, {'name': 'lilbubblegum', 'listeners': '145698'}, {'name': 'lil mabu', 'listeners': '162133'}, {'name': 'Lilypichu', 'listeners': '95064'}, {'name': 'Lilly Wood & The Prick', 'listeners': '437989'}, {'name': 'LIL DUSTY G', 'listeners': '134146'}, {'name': 'Lil Jon & The East Side Boyz', 'listeners': '670201'}, {'name': 'Lily Chou-Chou', 'listeners': '118515'}, {'name': 'Lil Revive', 'listeners': '46682'}, {'name': 'Lilac', 'listeners': '261229'}, {'name': 'Lil Jon', 'listeners': '698096'}]\n",
      "---------\n",
      "Lil Eazzyy\n",
      "175545\n",
      "[{'name': 'LIL UZI VERT', 'listeners': '1437090'}, {'name': 'LIL PEEP', 'listeners': '1126900'}, {'name': 'Lil Nas X', 'listeners': '1742482'}, {'name': 'Lil Baby', 'listeners': '882477'}, {'name': 'Lily Allen', 'listeners': '2679551'}, {'name': 'Lil Yachty', 'listeners': '959533'}, {'name': \"Lil' Wayne\", 'listeners': '3380065'}, {'name': 'Lil Tecca', 'listeners': '727345'}, {'name': 'Lil Wayne', 'listeners': '1032482'}, {'name': 'Lil Durk', 'listeners': '582672'}, {'name': 'lil tjay', 'listeners': '575861'}, {'name': 'lil skies', 'listeners': '490980'}, {'name': 'Lil Darkie', 'listeners': '323960'}, {'name': 'Lil Ugly Mane', 'listeners': '259708'}, {'name': 'lil Mosey', 'listeners': '592046'}, {'name': 'Lil B', 'listeners': '388057'}, {'name': 'LIL PUMP', 'listeners': '502071'}, {'name': 'LIL TRACY', 'listeners': '208370'}, {'name': 'Lil Keed', 'listeners': '240057'}, {'name': 'Lil Dicky', 'listeners': '460353'}, {'name': \"Lil' Kim\", 'listeners': '623635'}, {'name': 'Lil Xan', 'listeners': '323806'}, {'name': 'Lil Shine', 'listeners': '49578'}, {'name': 'Lil Loaded', 'listeners': '157423'}, {'name': 'LIL GNAR', 'listeners': '243787'}, {'name': 'lilbubblegum', 'listeners': '145698'}, {'name': 'lil mabu', 'listeners': '162133'}, {'name': 'Lilypichu', 'listeners': '95064'}, {'name': 'Lilly Wood & The Prick', 'listeners': '437989'}, {'name': 'LIL DUSTY G', 'listeners': '134146'}, {'name': 'Lil Jon & The East Side Boyz', 'listeners': '670201'}, {'name': 'Lily Chou-Chou', 'listeners': '118515'}, {'name': 'Lil Revive', 'listeners': '46682'}, {'name': 'Lilac', 'listeners': '261229'}, {'name': 'Lil Jon', 'listeners': '698096'}, {'name': 'Lil Eazzyy', 'listeners': '175545'}]\n",
      "---------\n",
      "Fenne Lily\n",
      "247968\n",
      "[{'name': 'LIL UZI VERT', 'listeners': '1437090'}, {'name': 'LIL PEEP', 'listeners': '1126900'}, {'name': 'Lil Nas X', 'listeners': '1742482'}, {'name': 'Lil Baby', 'listeners': '882477'}, {'name': 'Lily Allen', 'listeners': '2679551'}, {'name': 'Lil Yachty', 'listeners': '959533'}, {'name': \"Lil' Wayne\", 'listeners': '3380065'}, {'name': 'Lil Tecca', 'listeners': '727345'}, {'name': 'Lil Wayne', 'listeners': '1032482'}, {'name': 'Lil Durk', 'listeners': '582672'}, {'name': 'lil tjay', 'listeners': '575861'}, {'name': 'lil skies', 'listeners': '490980'}, {'name': 'Lil Darkie', 'listeners': '323960'}, {'name': 'Lil Ugly Mane', 'listeners': '259708'}, {'name': 'lil Mosey', 'listeners': '592046'}, {'name': 'Lil B', 'listeners': '388057'}, {'name': 'LIL PUMP', 'listeners': '502071'}, {'name': 'LIL TRACY', 'listeners': '208370'}, {'name': 'Lil Keed', 'listeners': '240057'}, {'name': 'Lil Dicky', 'listeners': '460353'}, {'name': \"Lil' Kim\", 'listeners': '623635'}, {'name': 'Lil Xan', 'listeners': '323806'}, {'name': 'Lil Shine', 'listeners': '49578'}, {'name': 'Lil Loaded', 'listeners': '157423'}, {'name': 'LIL GNAR', 'listeners': '243787'}, {'name': 'lilbubblegum', 'listeners': '145698'}, {'name': 'lil mabu', 'listeners': '162133'}, {'name': 'Lilypichu', 'listeners': '95064'}, {'name': 'Lilly Wood & The Prick', 'listeners': '437989'}, {'name': 'LIL DUSTY G', 'listeners': '134146'}, {'name': 'Lil Jon & The East Side Boyz', 'listeners': '670201'}, {'name': 'Lily Chou-Chou', 'listeners': '118515'}, {'name': 'Lil Revive', 'listeners': '46682'}, {'name': 'Lilac', 'listeners': '261229'}, {'name': 'Lil Jon', 'listeners': '698096'}, {'name': 'Lil Eazzyy', 'listeners': '175545'}, {'name': 'Fenne Lily', 'listeners': '247968'}]\n",
      "---------\n",
      "LIL BO WEEP\n",
      "94625\n",
      "[{'name': 'LIL UZI VERT', 'listeners': '1437090'}, {'name': 'LIL PEEP', 'listeners': '1126900'}, {'name': 'Lil Nas X', 'listeners': '1742482'}, {'name': 'Lil Baby', 'listeners': '882477'}, {'name': 'Lily Allen', 'listeners': '2679551'}, {'name': 'Lil Yachty', 'listeners': '959533'}, {'name': \"Lil' Wayne\", 'listeners': '3380065'}, {'name': 'Lil Tecca', 'listeners': '727345'}, {'name': 'Lil Wayne', 'listeners': '1032482'}, {'name': 'Lil Durk', 'listeners': '582672'}, {'name': 'lil tjay', 'listeners': '575861'}, {'name': 'lil skies', 'listeners': '490980'}, {'name': 'Lil Darkie', 'listeners': '323960'}, {'name': 'Lil Ugly Mane', 'listeners': '259708'}, {'name': 'lil Mosey', 'listeners': '592046'}, {'name': 'Lil B', 'listeners': '388057'}, {'name': 'LIL PUMP', 'listeners': '502071'}, {'name': 'LIL TRACY', 'listeners': '208370'}, {'name': 'Lil Keed', 'listeners': '240057'}, {'name': 'Lil Dicky', 'listeners': '460353'}, {'name': \"Lil' Kim\", 'listeners': '623635'}, {'name': 'Lil Xan', 'listeners': '323806'}, {'name': 'Lil Shine', 'listeners': '49578'}, {'name': 'Lil Loaded', 'listeners': '157423'}, {'name': 'LIL GNAR', 'listeners': '243787'}, {'name': 'lilbubblegum', 'listeners': '145698'}, {'name': 'lil mabu', 'listeners': '162133'}, {'name': 'Lilypichu', 'listeners': '95064'}, {'name': 'Lilly Wood & The Prick', 'listeners': '437989'}, {'name': 'LIL DUSTY G', 'listeners': '134146'}, {'name': 'Lil Jon & The East Side Boyz', 'listeners': '670201'}, {'name': 'Lily Chou-Chou', 'listeners': '118515'}, {'name': 'Lil Revive', 'listeners': '46682'}, {'name': 'Lilac', 'listeners': '261229'}, {'name': 'Lil Jon', 'listeners': '698096'}, {'name': 'Lil Eazzyy', 'listeners': '175545'}, {'name': 'Fenne Lily', 'listeners': '247968'}, {'name': 'LIL BO WEEP', 'listeners': '94625'}]\n",
      "---------\n",
      "Lil Aaron\n",
      "142662\n",
      "[{'name': 'LIL UZI VERT', 'listeners': '1437090'}, {'name': 'LIL PEEP', 'listeners': '1126900'}, {'name': 'Lil Nas X', 'listeners': '1742482'}, {'name': 'Lil Baby', 'listeners': '882477'}, {'name': 'Lily Allen', 'listeners': '2679551'}, {'name': 'Lil Yachty', 'listeners': '959533'}, {'name': \"Lil' Wayne\", 'listeners': '3380065'}, {'name': 'Lil Tecca', 'listeners': '727345'}, {'name': 'Lil Wayne', 'listeners': '1032482'}, {'name': 'Lil Durk', 'listeners': '582672'}, {'name': 'lil tjay', 'listeners': '575861'}, {'name': 'lil skies', 'listeners': '490980'}, {'name': 'Lil Darkie', 'listeners': '323960'}, {'name': 'Lil Ugly Mane', 'listeners': '259708'}, {'name': 'lil Mosey', 'listeners': '592046'}, {'name': 'Lil B', 'listeners': '388057'}, {'name': 'LIL PUMP', 'listeners': '502071'}, {'name': 'LIL TRACY', 'listeners': '208370'}, {'name': 'Lil Keed', 'listeners': '240057'}, {'name': 'Lil Dicky', 'listeners': '460353'}, {'name': \"Lil' Kim\", 'listeners': '623635'}, {'name': 'Lil Xan', 'listeners': '323806'}, {'name': 'Lil Shine', 'listeners': '49578'}, {'name': 'Lil Loaded', 'listeners': '157423'}, {'name': 'LIL GNAR', 'listeners': '243787'}, {'name': 'lilbubblegum', 'listeners': '145698'}, {'name': 'lil mabu', 'listeners': '162133'}, {'name': 'Lilypichu', 'listeners': '95064'}, {'name': 'Lilly Wood & The Prick', 'listeners': '437989'}, {'name': 'LIL DUSTY G', 'listeners': '134146'}, {'name': 'Lil Jon & The East Side Boyz', 'listeners': '670201'}, {'name': 'Lily Chou-Chou', 'listeners': '118515'}, {'name': 'Lil Revive', 'listeners': '46682'}, {'name': 'Lilac', 'listeners': '261229'}, {'name': 'Lil Jon', 'listeners': '698096'}, {'name': 'Lil Eazzyy', 'listeners': '175545'}, {'name': 'Fenne Lily', 'listeners': '247968'}, {'name': 'LIL BO WEEP', 'listeners': '94625'}, {'name': 'Lil Aaron', 'listeners': '142662'}]\n",
      "---------\n",
      "Lil Kleine\n",
      "96607\n",
      "[{'name': 'LIL UZI VERT', 'listeners': '1437090'}, {'name': 'LIL PEEP', 'listeners': '1126900'}, {'name': 'Lil Nas X', 'listeners': '1742482'}, {'name': 'Lil Baby', 'listeners': '882477'}, {'name': 'Lily Allen', 'listeners': '2679551'}, {'name': 'Lil Yachty', 'listeners': '959533'}, {'name': \"Lil' Wayne\", 'listeners': '3380065'}, {'name': 'Lil Tecca', 'listeners': '727345'}, {'name': 'Lil Wayne', 'listeners': '1032482'}, {'name': 'Lil Durk', 'listeners': '582672'}, {'name': 'lil tjay', 'listeners': '575861'}, {'name': 'lil skies', 'listeners': '490980'}, {'name': 'Lil Darkie', 'listeners': '323960'}, {'name': 'Lil Ugly Mane', 'listeners': '259708'}, {'name': 'lil Mosey', 'listeners': '592046'}, {'name': 'Lil B', 'listeners': '388057'}, {'name': 'LIL PUMP', 'listeners': '502071'}, {'name': 'LIL TRACY', 'listeners': '208370'}, {'name': 'Lil Keed', 'listeners': '240057'}, {'name': 'Lil Dicky', 'listeners': '460353'}, {'name': \"Lil' Kim\", 'listeners': '623635'}, {'name': 'Lil Xan', 'listeners': '323806'}, {'name': 'Lil Shine', 'listeners': '49578'}, {'name': 'Lil Loaded', 'listeners': '157423'}, {'name': 'LIL GNAR', 'listeners': '243787'}, {'name': 'lilbubblegum', 'listeners': '145698'}, {'name': 'lil mabu', 'listeners': '162133'}, {'name': 'Lilypichu', 'listeners': '95064'}, {'name': 'Lilly Wood & The Prick', 'listeners': '437989'}, {'name': 'LIL DUSTY G', 'listeners': '134146'}, {'name': 'Lil Jon & The East Side Boyz', 'listeners': '670201'}, {'name': 'Lily Chou-Chou', 'listeners': '118515'}, {'name': 'Lil Revive', 'listeners': '46682'}, {'name': 'Lilac', 'listeners': '261229'}, {'name': 'Lil Jon', 'listeners': '698096'}, {'name': 'Lil Eazzyy', 'listeners': '175545'}, {'name': 'Fenne Lily', 'listeners': '247968'}, {'name': 'LIL BO WEEP', 'listeners': '94625'}, {'name': 'Lil Aaron', 'listeners': '142662'}, {'name': 'Lil Kleine', 'listeners': '96607'}]\n",
      "---------\n",
      "Lil Gotit\n",
      "81346\n",
      "[{'name': 'LIL UZI VERT', 'listeners': '1437090'}, {'name': 'LIL PEEP', 'listeners': '1126900'}, {'name': 'Lil Nas X', 'listeners': '1742482'}, {'name': 'Lil Baby', 'listeners': '882477'}, {'name': 'Lily Allen', 'listeners': '2679551'}, {'name': 'Lil Yachty', 'listeners': '959533'}, {'name': \"Lil' Wayne\", 'listeners': '3380065'}, {'name': 'Lil Tecca', 'listeners': '727345'}, {'name': 'Lil Wayne', 'listeners': '1032482'}, {'name': 'Lil Durk', 'listeners': '582672'}, {'name': 'lil tjay', 'listeners': '575861'}, {'name': 'lil skies', 'listeners': '490980'}, {'name': 'Lil Darkie', 'listeners': '323960'}, {'name': 'Lil Ugly Mane', 'listeners': '259708'}, {'name': 'lil Mosey', 'listeners': '592046'}, {'name': 'Lil B', 'listeners': '388057'}, {'name': 'LIL PUMP', 'listeners': '502071'}, {'name': 'LIL TRACY', 'listeners': '208370'}, {'name': 'Lil Keed', 'listeners': '240057'}, {'name': 'Lil Dicky', 'listeners': '460353'}, {'name': \"Lil' Kim\", 'listeners': '623635'}, {'name': 'Lil Xan', 'listeners': '323806'}, {'name': 'Lil Shine', 'listeners': '49578'}, {'name': 'Lil Loaded', 'listeners': '157423'}, {'name': 'LIL GNAR', 'listeners': '243787'}, {'name': 'lilbubblegum', 'listeners': '145698'}, {'name': 'lil mabu', 'listeners': '162133'}, {'name': 'Lilypichu', 'listeners': '95064'}, {'name': 'Lilly Wood & The Prick', 'listeners': '437989'}, {'name': 'LIL DUSTY G', 'listeners': '134146'}, {'name': 'Lil Jon & The East Side Boyz', 'listeners': '670201'}, {'name': 'Lily Chou-Chou', 'listeners': '118515'}, {'name': 'Lil Revive', 'listeners': '46682'}, {'name': 'Lilac', 'listeners': '261229'}, {'name': 'Lil Jon', 'listeners': '698096'}, {'name': 'Lil Eazzyy', 'listeners': '175545'}, {'name': 'Fenne Lily', 'listeners': '247968'}, {'name': 'LIL BO WEEP', 'listeners': '94625'}, {'name': 'Lil Aaron', 'listeners': '142662'}, {'name': 'Lil Kleine', 'listeners': '96607'}, {'name': 'Lil Gotit', 'listeners': '81346'}]\n",
      "---------\n",
      "Lily James\n",
      "156271\n",
      "[{'name': 'LIL UZI VERT', 'listeners': '1437090'}, {'name': 'LIL PEEP', 'listeners': '1126900'}, {'name': 'Lil Nas X', 'listeners': '1742482'}, {'name': 'Lil Baby', 'listeners': '882477'}, {'name': 'Lily Allen', 'listeners': '2679551'}, {'name': 'Lil Yachty', 'listeners': '959533'}, {'name': \"Lil' Wayne\", 'listeners': '3380065'}, {'name': 'Lil Tecca', 'listeners': '727345'}, {'name': 'Lil Wayne', 'listeners': '1032482'}, {'name': 'Lil Durk', 'listeners': '582672'}, {'name': 'lil tjay', 'listeners': '575861'}, {'name': 'lil skies', 'listeners': '490980'}, {'name': 'Lil Darkie', 'listeners': '323960'}, {'name': 'Lil Ugly Mane', 'listeners': '259708'}, {'name': 'lil Mosey', 'listeners': '592046'}, {'name': 'Lil B', 'listeners': '388057'}, {'name': 'LIL PUMP', 'listeners': '502071'}, {'name': 'LIL TRACY', 'listeners': '208370'}, {'name': 'Lil Keed', 'listeners': '240057'}, {'name': 'Lil Dicky', 'listeners': '460353'}, {'name': \"Lil' Kim\", 'listeners': '623635'}, {'name': 'Lil Xan', 'listeners': '323806'}, {'name': 'Lil Shine', 'listeners': '49578'}, {'name': 'Lil Loaded', 'listeners': '157423'}, {'name': 'LIL GNAR', 'listeners': '243787'}, {'name': 'lilbubblegum', 'listeners': '145698'}, {'name': 'lil mabu', 'listeners': '162133'}, {'name': 'Lilypichu', 'listeners': '95064'}, {'name': 'Lilly Wood & The Prick', 'listeners': '437989'}, {'name': 'LIL DUSTY G', 'listeners': '134146'}, {'name': 'Lil Jon & The East Side Boyz', 'listeners': '670201'}, {'name': 'Lily Chou-Chou', 'listeners': '118515'}, {'name': 'Lil Revive', 'listeners': '46682'}, {'name': 'Lilac', 'listeners': '261229'}, {'name': 'Lil Jon', 'listeners': '698096'}, {'name': 'Lil Eazzyy', 'listeners': '175545'}, {'name': 'Fenne Lily', 'listeners': '247968'}, {'name': 'LIL BO WEEP', 'listeners': '94625'}, {'name': 'Lil Aaron', 'listeners': '142662'}, {'name': 'Lil Kleine', 'listeners': '96607'}, {'name': 'Lil Gotit', 'listeners': '81346'}, {'name': 'Lily James', 'listeners': '156271'}]\n",
      "---------\n",
      "Lil Candy Paint\n",
      "125926\n",
      "[{'name': 'LIL UZI VERT', 'listeners': '1437090'}, {'name': 'LIL PEEP', 'listeners': '1126900'}, {'name': 'Lil Nas X', 'listeners': '1742482'}, {'name': 'Lil Baby', 'listeners': '882477'}, {'name': 'Lily Allen', 'listeners': '2679551'}, {'name': 'Lil Yachty', 'listeners': '959533'}, {'name': \"Lil' Wayne\", 'listeners': '3380065'}, {'name': 'Lil Tecca', 'listeners': '727345'}, {'name': 'Lil Wayne', 'listeners': '1032482'}, {'name': 'Lil Durk', 'listeners': '582672'}, {'name': 'lil tjay', 'listeners': '575861'}, {'name': 'lil skies', 'listeners': '490980'}, {'name': 'Lil Darkie', 'listeners': '323960'}, {'name': 'Lil Ugly Mane', 'listeners': '259708'}, {'name': 'lil Mosey', 'listeners': '592046'}, {'name': 'Lil B', 'listeners': '388057'}, {'name': 'LIL PUMP', 'listeners': '502071'}, {'name': 'LIL TRACY', 'listeners': '208370'}, {'name': 'Lil Keed', 'listeners': '240057'}, {'name': 'Lil Dicky', 'listeners': '460353'}, {'name': \"Lil' Kim\", 'listeners': '623635'}, {'name': 'Lil Xan', 'listeners': '323806'}, {'name': 'Lil Shine', 'listeners': '49578'}, {'name': 'Lil Loaded', 'listeners': '157423'}, {'name': 'LIL GNAR', 'listeners': '243787'}, {'name': 'lilbubblegum', 'listeners': '145698'}, {'name': 'lil mabu', 'listeners': '162133'}, {'name': 'Lilypichu', 'listeners': '95064'}, {'name': 'Lilly Wood & The Prick', 'listeners': '437989'}, {'name': 'LIL DUSTY G', 'listeners': '134146'}, {'name': 'Lil Jon & The East Side Boyz', 'listeners': '670201'}, {'name': 'Lily Chou-Chou', 'listeners': '118515'}, {'name': 'Lil Revive', 'listeners': '46682'}, {'name': 'Lilac', 'listeners': '261229'}, {'name': 'Lil Jon', 'listeners': '698096'}, {'name': 'Lil Eazzyy', 'listeners': '175545'}, {'name': 'Fenne Lily', 'listeners': '247968'}, {'name': 'LIL BO WEEP', 'listeners': '94625'}, {'name': 'Lil Aaron', 'listeners': '142662'}, {'name': 'Lil Kleine', 'listeners': '96607'}, {'name': 'Lil Gotit', 'listeners': '81346'}, {'name': 'Lily James', 'listeners': '156271'}, {'name': 'Lil Candy Paint', 'listeners': '125926'}]\n",
      "---------\n",
      "Lil Boodang\n",
      "120903\n",
      "[{'name': 'LIL UZI VERT', 'listeners': '1437090'}, {'name': 'LIL PEEP', 'listeners': '1126900'}, {'name': 'Lil Nas X', 'listeners': '1742482'}, {'name': 'Lil Baby', 'listeners': '882477'}, {'name': 'Lily Allen', 'listeners': '2679551'}, {'name': 'Lil Yachty', 'listeners': '959533'}, {'name': \"Lil' Wayne\", 'listeners': '3380065'}, {'name': 'Lil Tecca', 'listeners': '727345'}, {'name': 'Lil Wayne', 'listeners': '1032482'}, {'name': 'Lil Durk', 'listeners': '582672'}, {'name': 'lil tjay', 'listeners': '575861'}, {'name': 'lil skies', 'listeners': '490980'}, {'name': 'Lil Darkie', 'listeners': '323960'}, {'name': 'Lil Ugly Mane', 'listeners': '259708'}, {'name': 'lil Mosey', 'listeners': '592046'}, {'name': 'Lil B', 'listeners': '388057'}, {'name': 'LIL PUMP', 'listeners': '502071'}, {'name': 'LIL TRACY', 'listeners': '208370'}, {'name': 'Lil Keed', 'listeners': '240057'}, {'name': 'Lil Dicky', 'listeners': '460353'}, {'name': \"Lil' Kim\", 'listeners': '623635'}, {'name': 'Lil Xan', 'listeners': '323806'}, {'name': 'Lil Shine', 'listeners': '49578'}, {'name': 'Lil Loaded', 'listeners': '157423'}, {'name': 'LIL GNAR', 'listeners': '243787'}, {'name': 'lilbubblegum', 'listeners': '145698'}, {'name': 'lil mabu', 'listeners': '162133'}, {'name': 'Lilypichu', 'listeners': '95064'}, {'name': 'Lilly Wood & The Prick', 'listeners': '437989'}, {'name': 'LIL DUSTY G', 'listeners': '134146'}, {'name': 'Lil Jon & The East Side Boyz', 'listeners': '670201'}, {'name': 'Lily Chou-Chou', 'listeners': '118515'}, {'name': 'Lil Revive', 'listeners': '46682'}, {'name': 'Lilac', 'listeners': '261229'}, {'name': 'Lil Jon', 'listeners': '698096'}, {'name': 'Lil Eazzyy', 'listeners': '175545'}, {'name': 'Fenne Lily', 'listeners': '247968'}, {'name': 'LIL BO WEEP', 'listeners': '94625'}, {'name': 'Lil Aaron', 'listeners': '142662'}, {'name': 'Lil Kleine', 'listeners': '96607'}, {'name': 'Lil Gotit', 'listeners': '81346'}, {'name': 'Lily James', 'listeners': '156271'}, {'name': 'Lil Candy Paint', 'listeners': '125926'}, {'name': 'Lil Boodang', 'listeners': '120903'}]\n",
      "---------\n",
      "Lil Mariko\n",
      "98328\n",
      "[{'name': 'LIL UZI VERT', 'listeners': '1437090'}, {'name': 'LIL PEEP', 'listeners': '1126900'}, {'name': 'Lil Nas X', 'listeners': '1742482'}, {'name': 'Lil Baby', 'listeners': '882477'}, {'name': 'Lily Allen', 'listeners': '2679551'}, {'name': 'Lil Yachty', 'listeners': '959533'}, {'name': \"Lil' Wayne\", 'listeners': '3380065'}, {'name': 'Lil Tecca', 'listeners': '727345'}, {'name': 'Lil Wayne', 'listeners': '1032482'}, {'name': 'Lil Durk', 'listeners': '582672'}, {'name': 'lil tjay', 'listeners': '575861'}, {'name': 'lil skies', 'listeners': '490980'}, {'name': 'Lil Darkie', 'listeners': '323960'}, {'name': 'Lil Ugly Mane', 'listeners': '259708'}, {'name': 'lil Mosey', 'listeners': '592046'}, {'name': 'Lil B', 'listeners': '388057'}, {'name': 'LIL PUMP', 'listeners': '502071'}, {'name': 'LIL TRACY', 'listeners': '208370'}, {'name': 'Lil Keed', 'listeners': '240057'}, {'name': 'Lil Dicky', 'listeners': '460353'}, {'name': \"Lil' Kim\", 'listeners': '623635'}, {'name': 'Lil Xan', 'listeners': '323806'}, {'name': 'Lil Shine', 'listeners': '49578'}, {'name': 'Lil Loaded', 'listeners': '157423'}, {'name': 'LIL GNAR', 'listeners': '243787'}, {'name': 'lilbubblegum', 'listeners': '145698'}, {'name': 'lil mabu', 'listeners': '162133'}, {'name': 'Lilypichu', 'listeners': '95064'}, {'name': 'Lilly Wood & The Prick', 'listeners': '437989'}, {'name': 'LIL DUSTY G', 'listeners': '134146'}, {'name': 'Lil Jon & The East Side Boyz', 'listeners': '670201'}, {'name': 'Lily Chou-Chou', 'listeners': '118515'}, {'name': 'Lil Revive', 'listeners': '46682'}, {'name': 'Lilac', 'listeners': '261229'}, {'name': 'Lil Jon', 'listeners': '698096'}, {'name': 'Lil Eazzyy', 'listeners': '175545'}, {'name': 'Fenne Lily', 'listeners': '247968'}, {'name': 'LIL BO WEEP', 'listeners': '94625'}, {'name': 'Lil Aaron', 'listeners': '142662'}, {'name': 'Lil Kleine', 'listeners': '96607'}, {'name': 'Lil Gotit', 'listeners': '81346'}, {'name': 'Lily James', 'listeners': '156271'}, {'name': 'Lil Candy Paint', 'listeners': '125926'}, {'name': 'Lil Boodang', 'listeners': '120903'}, {'name': 'Lil Mariko', 'listeners': '98328'}]\n",
      "---------\n",
      "Lilly Wood and The Prick\n",
      "198888\n",
      "[{'name': 'LIL UZI VERT', 'listeners': '1437090'}, {'name': 'LIL PEEP', 'listeners': '1126900'}, {'name': 'Lil Nas X', 'listeners': '1742482'}, {'name': 'Lil Baby', 'listeners': '882477'}, {'name': 'Lily Allen', 'listeners': '2679551'}, {'name': 'Lil Yachty', 'listeners': '959533'}, {'name': \"Lil' Wayne\", 'listeners': '3380065'}, {'name': 'Lil Tecca', 'listeners': '727345'}, {'name': 'Lil Wayne', 'listeners': '1032482'}, {'name': 'Lil Durk', 'listeners': '582672'}, {'name': 'lil tjay', 'listeners': '575861'}, {'name': 'lil skies', 'listeners': '490980'}, {'name': 'Lil Darkie', 'listeners': '323960'}, {'name': 'Lil Ugly Mane', 'listeners': '259708'}, {'name': 'lil Mosey', 'listeners': '592046'}, {'name': 'Lil B', 'listeners': '388057'}, {'name': 'LIL PUMP', 'listeners': '502071'}, {'name': 'LIL TRACY', 'listeners': '208370'}, {'name': 'Lil Keed', 'listeners': '240057'}, {'name': 'Lil Dicky', 'listeners': '460353'}, {'name': \"Lil' Kim\", 'listeners': '623635'}, {'name': 'Lil Xan', 'listeners': '323806'}, {'name': 'Lil Shine', 'listeners': '49578'}, {'name': 'Lil Loaded', 'listeners': '157423'}, {'name': 'LIL GNAR', 'listeners': '243787'}, {'name': 'lilbubblegum', 'listeners': '145698'}, {'name': 'lil mabu', 'listeners': '162133'}, {'name': 'Lilypichu', 'listeners': '95064'}, {'name': 'Lilly Wood & The Prick', 'listeners': '437989'}, {'name': 'LIL DUSTY G', 'listeners': '134146'}, {'name': 'Lil Jon & The East Side Boyz', 'listeners': '670201'}, {'name': 'Lily Chou-Chou', 'listeners': '118515'}, {'name': 'Lil Revive', 'listeners': '46682'}, {'name': 'Lilac', 'listeners': '261229'}, {'name': 'Lil Jon', 'listeners': '698096'}, {'name': 'Lil Eazzyy', 'listeners': '175545'}, {'name': 'Fenne Lily', 'listeners': '247968'}, {'name': 'LIL BO WEEP', 'listeners': '94625'}, {'name': 'Lil Aaron', 'listeners': '142662'}, {'name': 'Lil Kleine', 'listeners': '96607'}, {'name': 'Lil Gotit', 'listeners': '81346'}, {'name': 'Lily James', 'listeners': '156271'}, {'name': 'Lil Candy Paint', 'listeners': '125926'}, {'name': 'Lil Boodang', 'listeners': '120903'}, {'name': 'Lil Mariko', 'listeners': '98328'}, {'name': 'Lilly Wood and The Prick', 'listeners': '198888'}]\n",
      "---------\n",
      "Lila Downs\n",
      "193570\n",
      "[{'name': 'LIL UZI VERT', 'listeners': '1437090'}, {'name': 'LIL PEEP', 'listeners': '1126900'}, {'name': 'Lil Nas X', 'listeners': '1742482'}, {'name': 'Lil Baby', 'listeners': '882477'}, {'name': 'Lily Allen', 'listeners': '2679551'}, {'name': 'Lil Yachty', 'listeners': '959533'}, {'name': \"Lil' Wayne\", 'listeners': '3380065'}, {'name': 'Lil Tecca', 'listeners': '727345'}, {'name': 'Lil Wayne', 'listeners': '1032482'}, {'name': 'Lil Durk', 'listeners': '582672'}, {'name': 'lil tjay', 'listeners': '575861'}, {'name': 'lil skies', 'listeners': '490980'}, {'name': 'Lil Darkie', 'listeners': '323960'}, {'name': 'Lil Ugly Mane', 'listeners': '259708'}, {'name': 'lil Mosey', 'listeners': '592046'}, {'name': 'Lil B', 'listeners': '388057'}, {'name': 'LIL PUMP', 'listeners': '502071'}, {'name': 'LIL TRACY', 'listeners': '208370'}, {'name': 'Lil Keed', 'listeners': '240057'}, {'name': 'Lil Dicky', 'listeners': '460353'}, {'name': \"Lil' Kim\", 'listeners': '623635'}, {'name': 'Lil Xan', 'listeners': '323806'}, {'name': 'Lil Shine', 'listeners': '49578'}, {'name': 'Lil Loaded', 'listeners': '157423'}, {'name': 'LIL GNAR', 'listeners': '243787'}, {'name': 'lilbubblegum', 'listeners': '145698'}, {'name': 'lil mabu', 'listeners': '162133'}, {'name': 'Lilypichu', 'listeners': '95064'}, {'name': 'Lilly Wood & The Prick', 'listeners': '437989'}, {'name': 'LIL DUSTY G', 'listeners': '134146'}, {'name': 'Lil Jon & The East Side Boyz', 'listeners': '670201'}, {'name': 'Lily Chou-Chou', 'listeners': '118515'}, {'name': 'Lil Revive', 'listeners': '46682'}, {'name': 'Lilac', 'listeners': '261229'}, {'name': 'Lil Jon', 'listeners': '698096'}, {'name': 'Lil Eazzyy', 'listeners': '175545'}, {'name': 'Fenne Lily', 'listeners': '247968'}, {'name': 'LIL BO WEEP', 'listeners': '94625'}, {'name': 'Lil Aaron', 'listeners': '142662'}, {'name': 'Lil Kleine', 'listeners': '96607'}, {'name': 'Lil Gotit', 'listeners': '81346'}, {'name': 'Lily James', 'listeners': '156271'}, {'name': 'Lil Candy Paint', 'listeners': '125926'}, {'name': 'Lil Boodang', 'listeners': '120903'}, {'name': 'Lil Mariko', 'listeners': '98328'}, {'name': 'Lilly Wood and The Prick', 'listeners': '198888'}, {'name': 'Lila Downs', 'listeners': '193570'}]\n",
      "---------\n",
      "Lil Lotus\n",
      "69936\n",
      "[{'name': 'LIL UZI VERT', 'listeners': '1437090'}, {'name': 'LIL PEEP', 'listeners': '1126900'}, {'name': 'Lil Nas X', 'listeners': '1742482'}, {'name': 'Lil Baby', 'listeners': '882477'}, {'name': 'Lily Allen', 'listeners': '2679551'}, {'name': 'Lil Yachty', 'listeners': '959533'}, {'name': \"Lil' Wayne\", 'listeners': '3380065'}, {'name': 'Lil Tecca', 'listeners': '727345'}, {'name': 'Lil Wayne', 'listeners': '1032482'}, {'name': 'Lil Durk', 'listeners': '582672'}, {'name': 'lil tjay', 'listeners': '575861'}, {'name': 'lil skies', 'listeners': '490980'}, {'name': 'Lil Darkie', 'listeners': '323960'}, {'name': 'Lil Ugly Mane', 'listeners': '259708'}, {'name': 'lil Mosey', 'listeners': '592046'}, {'name': 'Lil B', 'listeners': '388057'}, {'name': 'LIL PUMP', 'listeners': '502071'}, {'name': 'LIL TRACY', 'listeners': '208370'}, {'name': 'Lil Keed', 'listeners': '240057'}, {'name': 'Lil Dicky', 'listeners': '460353'}, {'name': \"Lil' Kim\", 'listeners': '623635'}, {'name': 'Lil Xan', 'listeners': '323806'}, {'name': 'Lil Shine', 'listeners': '49578'}, {'name': 'Lil Loaded', 'listeners': '157423'}, {'name': 'LIL GNAR', 'listeners': '243787'}, {'name': 'lilbubblegum', 'listeners': '145698'}, {'name': 'lil mabu', 'listeners': '162133'}, {'name': 'Lilypichu', 'listeners': '95064'}, {'name': 'Lilly Wood & The Prick', 'listeners': '437989'}, {'name': 'LIL DUSTY G', 'listeners': '134146'}, {'name': 'Lil Jon & The East Side Boyz', 'listeners': '670201'}, {'name': 'Lily Chou-Chou', 'listeners': '118515'}, {'name': 'Lil Revive', 'listeners': '46682'}, {'name': 'Lilac', 'listeners': '261229'}, {'name': 'Lil Jon', 'listeners': '698096'}, {'name': 'Lil Eazzyy', 'listeners': '175545'}, {'name': 'Fenne Lily', 'listeners': '247968'}, {'name': 'LIL BO WEEP', 'listeners': '94625'}, {'name': 'Lil Aaron', 'listeners': '142662'}, {'name': 'Lil Kleine', 'listeners': '96607'}, {'name': 'Lil Gotit', 'listeners': '81346'}, {'name': 'Lily James', 'listeners': '156271'}, {'name': 'Lil Candy Paint', 'listeners': '125926'}, {'name': 'Lil Boodang', 'listeners': '120903'}, {'name': 'Lil Mariko', 'listeners': '98328'}, {'name': 'Lilly Wood and The Prick', 'listeners': '198888'}, {'name': 'Lila Downs', 'listeners': '193570'}, {'name': 'Lil Lotus', 'listeners': '69936'}]\n",
      "---------\n",
      "Lil God Dan\n",
      "77615\n",
      "[{'name': 'LIL UZI VERT', 'listeners': '1437090'}, {'name': 'LIL PEEP', 'listeners': '1126900'}, {'name': 'Lil Nas X', 'listeners': '1742482'}, {'name': 'Lil Baby', 'listeners': '882477'}, {'name': 'Lily Allen', 'listeners': '2679551'}, {'name': 'Lil Yachty', 'listeners': '959533'}, {'name': \"Lil' Wayne\", 'listeners': '3380065'}, {'name': 'Lil Tecca', 'listeners': '727345'}, {'name': 'Lil Wayne', 'listeners': '1032482'}, {'name': 'Lil Durk', 'listeners': '582672'}, {'name': 'lil tjay', 'listeners': '575861'}, {'name': 'lil skies', 'listeners': '490980'}, {'name': 'Lil Darkie', 'listeners': '323960'}, {'name': 'Lil Ugly Mane', 'listeners': '259708'}, {'name': 'lil Mosey', 'listeners': '592046'}, {'name': 'Lil B', 'listeners': '388057'}, {'name': 'LIL PUMP', 'listeners': '502071'}, {'name': 'LIL TRACY', 'listeners': '208370'}, {'name': 'Lil Keed', 'listeners': '240057'}, {'name': 'Lil Dicky', 'listeners': '460353'}, {'name': \"Lil' Kim\", 'listeners': '623635'}, {'name': 'Lil Xan', 'listeners': '323806'}, {'name': 'Lil Shine', 'listeners': '49578'}, {'name': 'Lil Loaded', 'listeners': '157423'}, {'name': 'LIL GNAR', 'listeners': '243787'}, {'name': 'lilbubblegum', 'listeners': '145698'}, {'name': 'lil mabu', 'listeners': '162133'}, {'name': 'Lilypichu', 'listeners': '95064'}, {'name': 'Lilly Wood & The Prick', 'listeners': '437989'}, {'name': 'LIL DUSTY G', 'listeners': '134146'}, {'name': 'Lil Jon & The East Side Boyz', 'listeners': '670201'}, {'name': 'Lily Chou-Chou', 'listeners': '118515'}, {'name': 'Lil Revive', 'listeners': '46682'}, {'name': 'Lilac', 'listeners': '261229'}, {'name': 'Lil Jon', 'listeners': '698096'}, {'name': 'Lil Eazzyy', 'listeners': '175545'}, {'name': 'Fenne Lily', 'listeners': '247968'}, {'name': 'LIL BO WEEP', 'listeners': '94625'}, {'name': 'Lil Aaron', 'listeners': '142662'}, {'name': 'Lil Kleine', 'listeners': '96607'}, {'name': 'Lil Gotit', 'listeners': '81346'}, {'name': 'Lily James', 'listeners': '156271'}, {'name': 'Lil Candy Paint', 'listeners': '125926'}, {'name': 'Lil Boodang', 'listeners': '120903'}, {'name': 'Lil Mariko', 'listeners': '98328'}, {'name': 'Lilly Wood and The Prick', 'listeners': '198888'}, {'name': 'Lila Downs', 'listeners': '193570'}, {'name': 'Lil Lotus', 'listeners': '69936'}, {'name': 'Lil God Dan', 'listeners': '77615'}]\n",
      "---------\n",
      "The Tiger Lillies\n",
      "125735\n",
      "[{'name': 'LIL UZI VERT', 'listeners': '1437090'}, {'name': 'LIL PEEP', 'listeners': '1126900'}, {'name': 'Lil Nas X', 'listeners': '1742482'}, {'name': 'Lil Baby', 'listeners': '882477'}, {'name': 'Lily Allen', 'listeners': '2679551'}, {'name': 'Lil Yachty', 'listeners': '959533'}, {'name': \"Lil' Wayne\", 'listeners': '3380065'}, {'name': 'Lil Tecca', 'listeners': '727345'}, {'name': 'Lil Wayne', 'listeners': '1032482'}, {'name': 'Lil Durk', 'listeners': '582672'}, {'name': 'lil tjay', 'listeners': '575861'}, {'name': 'lil skies', 'listeners': '490980'}, {'name': 'Lil Darkie', 'listeners': '323960'}, {'name': 'Lil Ugly Mane', 'listeners': '259708'}, {'name': 'lil Mosey', 'listeners': '592046'}, {'name': 'Lil B', 'listeners': '388057'}, {'name': 'LIL PUMP', 'listeners': '502071'}, {'name': 'LIL TRACY', 'listeners': '208370'}, {'name': 'Lil Keed', 'listeners': '240057'}, {'name': 'Lil Dicky', 'listeners': '460353'}, {'name': \"Lil' Kim\", 'listeners': '623635'}, {'name': 'Lil Xan', 'listeners': '323806'}, {'name': 'Lil Shine', 'listeners': '49578'}, {'name': 'Lil Loaded', 'listeners': '157423'}, {'name': 'LIL GNAR', 'listeners': '243787'}, {'name': 'lilbubblegum', 'listeners': '145698'}, {'name': 'lil mabu', 'listeners': '162133'}, {'name': 'Lilypichu', 'listeners': '95064'}, {'name': 'Lilly Wood & The Prick', 'listeners': '437989'}, {'name': 'LIL DUSTY G', 'listeners': '134146'}, {'name': 'Lil Jon & The East Side Boyz', 'listeners': '670201'}, {'name': 'Lily Chou-Chou', 'listeners': '118515'}, {'name': 'Lil Revive', 'listeners': '46682'}, {'name': 'Lilac', 'listeners': '261229'}, {'name': 'Lil Jon', 'listeners': '698096'}, {'name': 'Lil Eazzyy', 'listeners': '175545'}, {'name': 'Fenne Lily', 'listeners': '247968'}, {'name': 'LIL BO WEEP', 'listeners': '94625'}, {'name': 'Lil Aaron', 'listeners': '142662'}, {'name': 'Lil Kleine', 'listeners': '96607'}, {'name': 'Lil Gotit', 'listeners': '81346'}, {'name': 'Lily James', 'listeners': '156271'}, {'name': 'Lil Candy Paint', 'listeners': '125926'}, {'name': 'Lil Boodang', 'listeners': '120903'}, {'name': 'Lil Mariko', 'listeners': '98328'}, {'name': 'Lilly Wood and The Prick', 'listeners': '198888'}, {'name': 'Lila Downs', 'listeners': '193570'}, {'name': 'Lil Lotus', 'listeners': '69936'}, {'name': 'Lil God Dan', 'listeners': '77615'}, {'name': 'The Tiger Lillies', 'listeners': '125735'}]\n",
      "---------\n"
     ]
    }
   ],
   "source": [
    "for x in data['results']['artistmatches']['artist']:\n",
    "    print(x['name'])\n",
    "    print(x['listeners'])\n",
    "    lil_listeners.append({'name': x['name'], 'listeners': x['listeners']})\n",
    "    print(lil_listeners)\n",
    "    print(\"---------\")"
   ]
  },
  {
   "cell_type": "code",
   "execution_count": 51,
   "metadata": {},
   "outputs": [
    {
     "name": "stdout",
     "output_type": "stream",
     "text": [
      "[{'name': 'LIL UZI VERT', 'listeners': '1437090'}, {'name': 'LIL PEEP', 'listeners': '1126900'}, {'name': 'Lil Nas X', 'listeners': '1742482'}, {'name': 'Lil Baby', 'listeners': '882477'}, {'name': 'Lily Allen', 'listeners': '2679551'}, {'name': 'Lil Yachty', 'listeners': '959533'}, {'name': \"Lil' Wayne\", 'listeners': '3380065'}, {'name': 'Lil Tecca', 'listeners': '727345'}, {'name': 'Lil Wayne', 'listeners': '1032482'}, {'name': 'Lil Durk', 'listeners': '582672'}, {'name': 'lil tjay', 'listeners': '575861'}, {'name': 'lil skies', 'listeners': '490980'}, {'name': 'Lil Darkie', 'listeners': '323960'}, {'name': 'Lil Ugly Mane', 'listeners': '259708'}, {'name': 'lil Mosey', 'listeners': '592046'}, {'name': 'Lil B', 'listeners': '388057'}, {'name': 'LIL PUMP', 'listeners': '502071'}, {'name': 'LIL TRACY', 'listeners': '208370'}, {'name': 'Lil Keed', 'listeners': '240057'}, {'name': 'Lil Dicky', 'listeners': '460353'}, {'name': \"Lil' Kim\", 'listeners': '623635'}, {'name': 'Lil Xan', 'listeners': '323806'}, {'name': 'Lil Shine', 'listeners': '49578'}, {'name': 'Lil Loaded', 'listeners': '157423'}, {'name': 'LIL GNAR', 'listeners': '243787'}, {'name': 'lilbubblegum', 'listeners': '145698'}, {'name': 'lil mabu', 'listeners': '162133'}, {'name': 'Lilypichu', 'listeners': '95064'}, {'name': 'Lilly Wood & The Prick', 'listeners': '437989'}, {'name': 'LIL DUSTY G', 'listeners': '134146'}, {'name': 'Lil Jon & The East Side Boyz', 'listeners': '670201'}, {'name': 'Lily Chou-Chou', 'listeners': '118515'}, {'name': 'Lil Revive', 'listeners': '46682'}, {'name': 'Lilac', 'listeners': '261229'}, {'name': 'Lil Jon', 'listeners': '698096'}, {'name': 'Lil Eazzyy', 'listeners': '175545'}, {'name': 'Fenne Lily', 'listeners': '247968'}, {'name': 'LIL BO WEEP', 'listeners': '94625'}, {'name': 'Lil Aaron', 'listeners': '142662'}, {'name': 'Lil Kleine', 'listeners': '96607'}, {'name': 'Lil Gotit', 'listeners': '81346'}, {'name': 'Lily James', 'listeners': '156271'}, {'name': 'Lil Candy Paint', 'listeners': '125926'}, {'name': 'Lil Boodang', 'listeners': '120903'}, {'name': 'Lil Mariko', 'listeners': '98328'}, {'name': 'Lilly Wood and The Prick', 'listeners': '198888'}, {'name': 'Lila Downs', 'listeners': '193570'}, {'name': 'Lil Lotus', 'listeners': '69936'}, {'name': 'Lil God Dan', 'listeners': '77615'}, {'name': 'The Tiger Lillies', 'listeners': '125735'}]\n"
     ]
    }
   ],
   "source": [
    "print(lil_listeners)"
   ]
  },
  {
   "cell_type": "code",
   "execution_count": 53,
   "metadata": {},
   "outputs": [
    {
     "name": "stdout",
     "output_type": "stream",
     "text": [
      "LIL UZI VERT has 1437090 listeners\n",
      "----------\n",
      "LIL PEEP has 1126900 listeners\n",
      "----------\n",
      "Lil Nas X has 1742482 listeners\n",
      "----------\n",
      "Lil Baby has 882477 listeners\n",
      "----------\n",
      "Lily Allen has 2679551 listeners\n",
      "----------\n",
      "Lil Yachty has 959533 listeners\n",
      "----------\n",
      "Lil' Wayne has 3380065 listeners\n",
      "----------\n",
      "Lil Tecca has 727345 listeners\n",
      "----------\n",
      "Lil Wayne has 1032482 listeners\n",
      "----------\n",
      "Lil Durk has 582672 listeners\n",
      "----------\n",
      "lil tjay has 575861 listeners\n",
      "----------\n",
      "lil skies has 490980 listeners\n",
      "----------\n",
      "Lil Darkie has 323960 listeners\n",
      "----------\n",
      "Lil Ugly Mane has 259708 listeners\n",
      "----------\n",
      "lil Mosey has 592046 listeners\n",
      "----------\n",
      "Lil B has 388057 listeners\n",
      "----------\n",
      "LIL PUMP has 502071 listeners\n",
      "----------\n",
      "LIL TRACY has 208370 listeners\n",
      "----------\n",
      "Lil Keed has 240057 listeners\n",
      "----------\n",
      "Lil Dicky has 460353 listeners\n",
      "----------\n",
      "Lil' Kim has 623635 listeners\n",
      "----------\n",
      "Lil Xan has 323806 listeners\n",
      "----------\n",
      "Lil Shine has 49578 listeners\n",
      "----------\n",
      "Lil Loaded has 157423 listeners\n",
      "----------\n",
      "LIL GNAR has 243787 listeners\n",
      "----------\n",
      "lilbubblegum has 145698 listeners\n",
      "----------\n",
      "lil mabu has 162133 listeners\n",
      "----------\n",
      "Lilypichu has 95064 listeners\n",
      "----------\n",
      "Lilly Wood & The Prick has 437989 listeners\n",
      "----------\n",
      "LIL DUSTY G has 134146 listeners\n",
      "----------\n",
      "Lil Jon & The East Side Boyz has 670201 listeners\n",
      "----------\n",
      "Lily Chou-Chou has 118515 listeners\n",
      "----------\n",
      "Lil Revive has 46682 listeners\n",
      "----------\n",
      "Lilac has 261229 listeners\n",
      "----------\n",
      "Lil Jon has 698096 listeners\n",
      "----------\n",
      "Lil Eazzyy has 175545 listeners\n",
      "----------\n",
      "Fenne Lily has 247968 listeners\n",
      "----------\n",
      "LIL BO WEEP has 94625 listeners\n",
      "----------\n",
      "Lil Aaron has 142662 listeners\n",
      "----------\n",
      "Lil Kleine has 96607 listeners\n",
      "----------\n",
      "Lil Gotit has 81346 listeners\n",
      "----------\n",
      "Lily James has 156271 listeners\n",
      "----------\n",
      "Lil Candy Paint has 125926 listeners\n",
      "----------\n",
      "Lil Boodang has 120903 listeners\n",
      "----------\n",
      "Lil Mariko has 98328 listeners\n",
      "----------\n",
      "Lilly Wood and The Prick has 198888 listeners\n",
      "----------\n",
      "Lila Downs has 193570 listeners\n",
      "----------\n",
      "Lil Lotus has 69936 listeners\n",
      "----------\n",
      "Lil God Dan has 77615 listeners\n",
      "----------\n",
      "The Tiger Lillies has 125735 listeners\n",
      "----------\n"
     ]
    }
   ],
   "source": [
    "for x in data['results']['artistmatches']['artist']:\n",
    "#     print(x['name'])\n",
    "#     print(x['listeners'])\n",
    "    print(f\"{x['name']} has {x['listeners']} listeners\")\n",
    "    print('----------')"
   ]
  },
  {
   "cell_type": "markdown",
   "metadata": {},
   "source": [
    "Your results should begin something like this:\n",
    "    \n",
    "```\n",
    "Lil' Wayne has 3086628 listeners\n",
    "Lily Allen has 2074266 listeners\n",
    "Lil B has 194116 listeners\n",
    "Lilly Wood & The Prick has 359886 listeners\n",
    "Lil Ugly Mane has 31955 listeners\n",
    "LIL UZI VERT has 88517 listeners\n",
    "```"
   ]
  },
  {
   "cell_type": "markdown",
   "metadata": {},
   "source": [
    "## 2) How many listeners does your list have in total?\n",
    "\n",
    "The answer should be roughly **15,000,000**. If it's lower, make sure you have 50 artists instead of 30 artists.\n",
    "\n",
    "- *Tip: What's the data type of the `listeners` count? It's going to cause a problem!*\n",
    "- *Tip: If you were crazy you could use sum and a list comprehension. But you really don't have to!*"
   ]
  },
  {
   "cell_type": "code",
   "execution_count": 72,
   "metadata": {},
   "outputs": [
    {
     "data": {
      "text/plain": [
       "[1437090, 1126900, 1742482, 882477, 2679551]"
      ]
     },
     "execution_count": 72,
     "metadata": {},
     "output_type": "execute_result"
    }
   ],
   "source": [
    "all_listeners = [int(data['listeners']) for data in lil_listeners]\n",
    "\n",
    "all_listeners[:5]"
   ]
  },
  {
   "cell_type": "code",
   "execution_count": 73,
   "metadata": {},
   "outputs": [
    {
     "data": {
      "text/plain": [
       "24765967"
      ]
     },
     "execution_count": 73,
     "metadata": {},
     "output_type": "execute_result"
    }
   ],
   "source": [
    "sum(all_listeners)"
   ]
  },
  {
   "cell_type": "code",
   "execution_count": 70,
   "metadata": {},
   "outputs": [
    {
     "data": {
      "text/plain": [
       "50"
      ]
     },
     "execution_count": 70,
     "metadata": {},
     "output_type": "execute_result"
    }
   ],
   "source": [
    "len(lil_listeners)"
   ]
  },
  {
   "cell_type": "code",
   "execution_count": null,
   "metadata": {},
   "outputs": [],
   "source": []
  },
  {
   "cell_type": "code",
   "execution_count": 65,
   "metadata": {},
   "outputs": [],
   "source": [
    "total_listeners = list(int(x['listeners']) for x in lil_listeners)\n"
   ]
  },
  {
   "cell_type": "code",
   "execution_count": 66,
   "metadata": {},
   "outputs": [
    {
     "data": {
      "text/plain": [
       "24765967"
      ]
     },
     "execution_count": 66,
     "metadata": {},
     "output_type": "execute_result"
    }
   ],
   "source": [
    "sum(total_listeners)"
   ]
  },
  {
   "cell_type": "code",
   "execution_count": null,
   "metadata": {},
   "outputs": [],
   "source": []
  },
  {
   "cell_type": "code",
   "execution_count": null,
   "metadata": {
    "scrolled": true
   },
   "outputs": [],
   "source": [
    "for x in lil_listeners:\n",
    "    print(x['listeners'])"
   ]
  },
  {
   "cell_type": "code",
   "execution_count": 67,
   "metadata": {},
   "outputs": [],
   "source": [
    "total_listeners = 0"
   ]
  },
  {
   "cell_type": "code",
   "execution_count": 68,
   "metadata": {},
   "outputs": [
    {
     "name": "stdout",
     "output_type": "stream",
     "text": [
      "Total Listeners:  24765967\n"
     ]
    }
   ],
   "source": [
    "for x in lil_listeners:\n",
    "    total_listeners += int(x['listeners'])\n",
    "\n",
    "print(\"Total Listeners: \", total_listeners)"
   ]
  },
  {
   "cell_type": "code",
   "execution_count": null,
   "metadata": {},
   "outputs": [],
   "source": []
  },
  {
   "cell_type": "markdown",
   "metadata": {},
   "source": [
    "## 3) Show each artist's name and the URL to the extra-large image\n",
    "\n",
    "The images don't work any more, but we'll print their URLs out anyway."
   ]
  },
  {
   "cell_type": "markdown",
   "metadata": {},
   "source": [
    "Each artist **has a list of images of different sizes**. We're interested in the second-to-last one, where `size` is `extralarge`. Print their name and use `display_image` to display their extra-large image.\n",
    "\n",
    "- *Tip: The URL should look like this: `https://lastfm-img2.akamaized.net/i/u/300x300/0fc7d7a1812dc79e9925d80382cde594.png`*\n",
    "- *Tip: You can always assume it's the second to the last, or assume it's `extralarge`, or whatever you want to do to find it.*\n",
    "- *Tip: Make sure the URL is correct before you try to display it.*\n",
    "\n",
    "Your output should look something like\n",
    "\n",
    "```\n",
    "Lil' Wayne\n",
    "https://lastfm.freetls.fastly.net/i/u/300x300/2a96cbd8b46e442fc41c2b86b821562f.png\n",
    "---\n",
    "LIL UZI VERT\n",
    "https://lastfm.freetls.fastly.net/i/u/300x300/2a96cbd8b46e442fc41c2b86b821562f.png\n",
    "---\n",
    "Lily Allen\n",
    "https://lastfm.freetls.fastly.net/i/u/300x300/2a96cbd8b46e442fc41c2b86b821562f.png\n",
    "---\n",
    "```\n",
    "\n",
    "(but with more people, obviously)"
   ]
  },
  {
   "cell_type": "code",
   "execution_count": null,
   "metadata": {},
   "outputs": [],
   "source": []
  },
  {
   "cell_type": "markdown",
   "metadata": {},
   "source": [
    "## 4) Find Lil Jon's `mbid` (or anyone else's!).\n",
    "\n",
    "Oftentimes in an API, you can do a few things: you can **search** for items, and you can **see more information** about items. To find more information about the item, you need to use their **unique id**. In this dataset, it's called an `mbid` (MusicBrainz, I think - another company associated with last.fm!).\n",
    "\n",
    "Go through the artists and print their **name and mbid**. Find Lil Jon's `mbid`. I *wanted* Lil Uzi Vert's, but for some reason it isn't there. Then I wanted us to look at Lily Allen's, but I just couldn't bring myself to do that. If you'd rather do someone else, go for it."
   ]
  },
  {
   "cell_type": "code",
   "execution_count": null,
   "metadata": {},
   "outputs": [],
   "source": []
  },
  {
   "cell_type": "markdown",
   "metadata": {
    "collapsed": true
   },
   "source": [
    "## 5) Find the artist's name and bio using their `mbid`.\n",
    "\n",
    "It can either be Lil Jon or whoever you selected above.\n",
    "\n",
    "If you look at the [last.fm documentation](http://www.last.fm/api/show/artist.getInfo), you can see how to use the artist's `mbid` to find more information about them. Print **every tag associated with your artist**.\n",
    "\n",
    "- *Tip: It's a new request to the API*\n",
    "- *Tip: Use the `mbid`, and make sure you delete the `&name=Cher` from the sample endpoint*\n",
    "- *Tip: If you use `print` for the bio it looks a little nicer than it would otherwise*"
   ]
  },
  {
   "cell_type": "code",
   "execution_count": null,
   "metadata": {},
   "outputs": [],
   "source": []
  },
  {
   "cell_type": "code",
   "execution_count": null,
   "metadata": {},
   "outputs": [],
   "source": []
  },
  {
   "cell_type": "code",
   "execution_count": null,
   "metadata": {},
   "outputs": [],
   "source": []
  },
  {
   "cell_type": "code",
   "execution_count": null,
   "metadata": {},
   "outputs": [],
   "source": []
  },
  {
   "cell_type": "markdown",
   "metadata": {
    "collapsed": true
   },
   "source": [
    "## 6) Print every tag of that artist"
   ]
  },
  {
   "cell_type": "code",
   "execution_count": null,
   "metadata": {},
   "outputs": [],
   "source": []
  },
  {
   "cell_type": "markdown",
   "metadata": {},
   "source": [
    "# GETTING A LITTLE CRAZY\n",
    "\n",
    "So you know your original list of musicians? I want to get tag data for ALL OF THEM. How are we going to do that?\n",
    "\n",
    "## 7) Find the mbids (again)\n",
    "\n",
    "If we have a musician with an mbid of `AAA-AAA-AAA`, we get their info from a url like `http://ws.audioscrobbler.com/blahblah/?api_key=12345&mbid=AAA-AAA-AAA`.\n",
    "\n",
    "|artist|url|\n",
    "|---|---|\n",
    "|`AAA-AAA-AAA`|`http://ws.audioscrobbler.com/blahblah/?api_key=12345&mbid=AAA-AAA-AAA`|\n",
    "|`BBB-BBB-BBB`|`http://ws.audioscrobbler.com/blahblah/?api_key=12345&mbid=BBB-BBB-BBB`|\n",
    "|`CCC-CCC-CCC`|`http://ws.audioscrobbler.com/blahblah/?api_key=12345&mbid=CCC-CCC-CCC`|\n",
    "\n",
    "I guess we should start trying to get a list of all of the mbids.\n",
    "\n",
    "**Loop through your artists, and print out the `mbid` for each artist**\n",
    "\n",
    "- *Tip: You probably need to request your artist search result data again, because you probably saved over `data` with your other API request. Maybe call it `artist_data` this time?*\n",
    "- *Tip: If the artist does NOT have an `mbid`, don't print it.*"
   ]
  },
  {
   "cell_type": "code",
   "execution_count": null,
   "metadata": {},
   "outputs": [],
   "source": []
  },
  {
   "cell_type": "code",
   "execution_count": null,
   "metadata": {},
   "outputs": [],
   "source": []
  },
  {
   "cell_type": "markdown",
   "metadata": {},
   "source": [
    "Your results should look something like\n",
    "\n",
    "```\n",
    "6e0c7c0e-cba5-4c2c-a652-38f71ef5785d\n",
    "1550f952-c91b-40d7-9b4d-d26a259ee932\n",
    "1b72331b-3a97-4981-a81c-eeee9c275d28\n",
    "5f1adfe1-4d07-4141-b181-79e5d379d539\n",
    "a95384b1-6aec-468c-ae0d-8c6daf87c4c2\n",
    "bc1b5c95-e6d6-46b5-957a-5e8908b02c1e\n",
    "243c6f61-d83b-4459-bebd-5899df0da111\n",
    "```"
   ]
  },
  {
   "cell_type": "markdown",
   "metadata": {},
   "source": [
    "## 8) Saving those mbids\n",
    "\n",
    "For those `mbid` values, instead of printing them out, save them to a new list of just mbid values. Call this list `mbids`.\n",
    "\n",
    "- *Tip: Use `.append` to add a single element onto a list*"
   ]
  },
  {
   "cell_type": "code",
   "execution_count": null,
   "metadata": {},
   "outputs": [],
   "source": []
  },
  {
   "cell_type": "markdown",
   "metadata": {},
   "source": [
    "Your results should look something like\n",
    "\n",
    "```['6e0c7c0e-cba5-4c2c-a652-38f71ef5785d',\n",
    " '1550f952-c91b-40d7-9b4d-d26a259ee932',\n",
    " '1b72331b-3a97-4981-a81c-eeee9c275d28',\n",
    " '5f1adfe1-4d07-4141-b181-79e5d379d539',\n",
    " 'a95384b1-6aec-468c-ae0d-8c6daf87c4c2',\n",
    " 'bc1b5c95-e6d6-46b5-957a-5e8908b02c1e',\n",
    " '243c6f61-d83b-4459-bebd-5899df0da111',\n",
    " '8ba17cf6-bec2-4ae4-9820-b1cda47adc08',\n",
    " 'ad29ae1c-2eda-4071-9dc8-31910e7e546c',\n",
    " '3268f062-6e76-480a-a384-e1dd2a276afb',\n",
    " '3ad4f6ec-253f-4050-8849-ca26266edfb8',\n",
    " '9b5ce0c1-1bc0-4ea2-a8d3-f5ee7af9eda8',\n",
    " '981d39fc-bd00-4cc6-ac67-6410f8b89098',\n",
    " 'b89f4c50-72f5-48ce-b08c-a643b191b24f',\n",
    " 'bc21df5c-3d79-479b-b638-8ddb5ecea403',\n",
    " 'c9cd225b-4883-428e-82c2-73e0b6282fb6',\n",
    " '9acaf734-b380-4c48-954c-a2cf1d7990a9',\n",
    " 'd4d5ae85-700c-4a55-8a39-7f923da07ef2',\n",
    " '77fafce8-a32f-4d42-bdce-266bbf913cee',\n",
    " '50ad1cde-1536-4268-a55f-e47a7b8280ab',\n",
    " '9803d120-716d-45ba-9eb7-9a120813f908',\n",
    " 'b27560ea-2783-4a91-be45-9e8711917562',\n",
    " '194e87c9-b3fe-4fbd-82a7-8c54b4dd4c76',\n",
    " 'fd90af91-ed07-4e85-8816-26c954fe5286',\n",
    " '5652bb3e-f225-49de-9637-5aa1539b4a7c']```"
   ]
  },
  {
   "cell_type": "markdown",
   "metadata": {},
   "source": [
    "## 9) Printing our API urls\n",
    "\n",
    "To get tag data for each artist, you need to use those `mbid` values to access their artist page on the API. Loop through the mbids, displying the URL you'll need to access.\n",
    "\n",
    "- *Tip: You don't want to use a comma when printing, because commas add spaces into your text and URLs can't have that*\n",
    "- *Tip: Make sure your URL has `artist.getinfo` in it - if not, you're using the wrong endpoint.*"
   ]
  },
  {
   "cell_type": "code",
   "execution_count": null,
   "metadata": {},
   "outputs": [],
   "source": []
  },
  {
   "cell_type": "markdown",
   "metadata": {},
   "source": [
    "Your results should look something like\n",
    "\n",
    "```http://ws.audioscrobbler.com/2.0/?method=artist.getinfo&api_key=XXXXX&format=json&mbid=6e0c7c0e-cba5-4c2c-a652-38f71ef5785d\n",
    "http://ws.audioscrobbler.com/2.0/?method=artist.getinfo&api_key=XXXXX&format=json&mbid=1550f952-c91b-40d7-9b4d-d26a259ee932\n",
    "http://ws.audioscrobbler.com/2.0/?method=artist.getinfo&api_key=XXXXX&format=json&mbid=1b72331b-3a97-4981-a81c-eeee9c275d28\n",
    "http://ws.audioscrobbler.com/2.0/?method=artist.getinfo&api_key=XXXXX&format=json&mbid=5f1adfe1-4d07-4141-b181-79e5d379d539\n",
    "http://ws.audioscrobbler.com/2.0/?method=artist.getinfo&api_key=XXXXX&format=json&mbid=a95384b1-6aec-468c-ae0d-8c6daf87c4c2\n",
    "http://ws.audioscrobbler.com/2.0/?method=artist.getinfo&api_key=XXXXX&format=json&mbid=bc1b5c95-e6d6-46b5-957a-5e8908b02c1e```"
   ]
  },
  {
   "cell_type": "markdown",
   "metadata": {},
   "source": [
    "## OKAY HERE IS A LITTLE INFORMATION: Using our API urls\n",
    "\n",
    "This time instead of just *displaying* the URL, we're going to *request and process it*. **But first I'm going to teach you something.**\n",
    "\n",
    "When you're dealing with an API, you don't want to make a million requests, have bad code, and then need to do those million requests again. It's usually best to test your code with a few of the results first.\n",
    "\n",
    "So, if we have a list of numbers like this:"
   ]
  },
  {
   "cell_type": "code",
   "execution_count": null,
   "metadata": {},
   "outputs": [],
   "source": [
    "numbers = [4, 5, 6, 7]\n",
    "numbers"
   ]
  },
  {
   "cell_type": "markdown",
   "metadata": {},
   "source": [
    "You can actually say to Python, **give me the first two**, and it will only give you the first two."
   ]
  },
  {
   "cell_type": "code",
   "execution_count": null,
   "metadata": {},
   "outputs": [],
   "source": [
    "numbers[:2]"
   ]
  },
  {
   "cell_type": "markdown",
   "metadata": {},
   "source": [
    "The is **very convenient** with loopng with APIs, because instead of trying to use all FIFTY artists, you can just say \"hey, please try this out with 2 of them\" and you don't waste time."
   ]
  },
  {
   "cell_type": "markdown",
   "metadata": {},
   "source": [
    "## 10) Using the first three `mbids`, request the API urls and print the artist's name.\n",
    "\n",
    "You built the URLs in the last question, now it's time to use them! Use `requests` etc to grab the URL and get out the artist's name.\n",
    "\n",
    "- *Tip: The code is the same as last time you got an artist's name from their info page, it's just going to be inside of a loop*\n",
    "- *Tip: USE `PRINT` TO SEE WHAT YOU ARE LOOKING AT!!!!!*"
   ]
  },
  {
   "cell_type": "code",
   "execution_count": null,
   "metadata": {},
   "outputs": [],
   "source": []
  },
  {
   "cell_type": "markdown",
   "metadata": {},
   "source": [
    "## 11) Using the first three `mbids`, request the API urls and print the artist's name and their tags\n",
    "\n",
    "- *Tip: The code is the same as last time you got an artist's name from their info page, it's just going to be inside of a loop*\n",
    "- *Tip: It's a for loop in a for loop!*"
   ]
  },
  {
   "cell_type": "code",
   "execution_count": null,
   "metadata": {},
   "outputs": [],
   "source": []
  },
  {
   "cell_type": "markdown",
   "metadata": {},
   "source": [
    "## 12) Using the first ten mbids, print the artist's name and whether they're a rapper\n",
    "\n",
    "Only print their name ONCE and only print whether they are hip hop or not ONCE.\n",
    "\n",
    "- *Tip: Rap tags include hip hop, swag, crunk, rap, dirty south, and probably a bunch of other stuff! You can include as many categories as you'd like.*\n",
    "- *Tip: You can use `2 in [1, 2, 3]` to find out if `2` is in the list of `[1, 2, 3]`.*\n",
    "- *Tip: Every time you look at a new artist, you can say they are NOT a rapper. And once you find out one of their tags is hip hop or rap, then you can note that they're a rapper. Then once you're done looking at their tags, then you can say HEY this is a rapper, or HEY this is not a rapper.*"
   ]
  },
  {
   "cell_type": "code",
   "execution_count": null,
   "metadata": {},
   "outputs": [],
   "source": []
  },
  {
   "cell_type": "markdown",
   "metadata": {},
   "source": [
    "Your results might look something like\n",
    "\n",
    "```ARTIST: Lily Allen\n",
    "NO hip hop\n",
    "ARTIST: Lil B\n",
    "YES hip hop\n",
    "ARTIST: Lilly Wood & The Prick\n",
    "NO hip hop\n",
    "ARTIST: Lil Ugly Mane\n",
    "YES hip hop\n",
    "ARTIST: Lil Jon\n",
    "YES hip hop\n",
    "ARTIST: Lil' Kim\n",
    "YES hip hop\n",
    "ARTIST: Lil Jon & The East Side Boyz\n",
    "YES hip hop\n",
    "```"
   ]
  },
  {
   "cell_type": "markdown",
   "metadata": {
    "collapsed": true
   },
   "source": [
    "## 13) What percent of \"lil\" results are rappers?"
   ]
  },
  {
   "cell_type": "code",
   "execution_count": null,
   "metadata": {},
   "outputs": [],
   "source": []
  },
  {
   "cell_type": "markdown",
   "metadata": {},
   "source": [
    "## 14) Seriously you are all-powerful now."
   ]
  },
  {
   "cell_type": "code",
   "execution_count": null,
   "metadata": {},
   "outputs": [],
   "source": []
  }
 ],
 "metadata": {
  "kernelspec": {
   "display_name": "Python 3 (ipykernel)",
   "language": "python",
   "name": "python3"
  },
  "language_info": {
   "codemirror_mode": {
    "name": "ipython",
    "version": 3
   },
   "file_extension": ".py",
   "mimetype": "text/x-python",
   "name": "python",
   "nbconvert_exporter": "python",
   "pygments_lexer": "ipython3",
   "version": "3.10.11"
  }
 },
 "nbformat": 4,
 "nbformat_minor": 1
}
